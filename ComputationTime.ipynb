{
 "cells": [
  {
   "cell_type": "markdown",
   "metadata": {
    "colab_type": "text",
    "id": "LHM_gIZC0LGO"
   },
   "source": [
    "# Computation Time\n",
    "\n",
    "A performance of a computer program can be measured using its computation time and its memory space that it occupies. In this section, we will focus on analysing and measuring computation time."
   ]
  },
  {
   "cell_type": "markdown",
   "metadata": {
    "colab_type": "text",
    "id": "02tonDsJ0Ouk"
   },
   "source": [
    "## Asymptotic Notation\n",
    "\n",
    "Asymptotic notation is a shorthand used to give a quick measure of the behaviour of a function $f(n)$ as $n$ grows large. Here, we will introduce several notations that is common in analysing computer programs.\n",
    "\n",
    "\n",
    "### Little Oh\n",
    "\n",
    "This notation is to indicate that $f$ is *asymptotically smaller* than $g$, or in symbols,\n",
    "\n",
    "$$f(x) = o(g(x))$$\n",
    "\n",
    "This is True if and only if\n",
    "\n",
    "$$\\lim_{x\\to \\infty}  \\frac{f(x)}{g(x)} = 0$$\n",
    "\n",
    "For example,\n",
    "\n",
    "$$1000x^{1.9} = o(x^2)$$\n",
    "\n",
    "This is because\n",
    "\n",
    "$$\\lim_{x\\to\\infty} \\frac{1000x^{1.9}}{x^2} = \\lim_{x\\to\\infty} \\frac{1000}{x^{0.1}} = 0$$\n",
    "\n",
    "### Big Oh\n",
    "\n",
    "Big Oh is the most frequently used notation in computing as it is used to give an upper bound on the growth of a function. \n",
    "\n",
    "$$f = O(g)$$\n",
    "\n",
    "if and only if,\n",
    "\n",
    "$$\\lim_{x\\to \\infty}\\text{sup} \\frac{f(x)}{g(x)} < \\infty$$\n",
    "\n",
    "Note the word \"sup\" means superior or above as it indicates the upper bound. \n",
    "\n",
    "For example,\n",
    "\n",
    "$$x^2 + 100x+10 = O(x^2)$$\n",
    "\n",
    "This is because\n",
    "\n",
    "$$\\lim_{x\\to\\infty} \\text{sup} \\frac{x^2+100x+10}{x^2} = 1 < \\infty$$\n",
    "\n",
    "### Big Omega\n",
    "\n",
    "The previous notation \"Big Oh\" is used to indicate an upper bound. The notation to indicate the lower bound is Big Omega, or simply Omega. \n",
    "\n",
    "$$f = \\Omega(g)$$\n",
    "\n",
    "if and only if there exist a constant $c$ and an $x_0$ such that for all $x\\ge x_0$, we have\n",
    "\n",
    "$$f(x) \\ge c |g(x)|$$\n",
    "\n",
    "In other words, this simply means that $f(x)$ is greater than or equal to $g(x)$. As you can guess, this sounds like Big-Oh in reverse. \n",
    "\n",
    "$$f(x) = O(g(x)) \\text{ if and only if } g(x) = \\Omega(f(x))$$\n",
    "\n",
    "For example,\n",
    "\n",
    "$$x^2  = \\Omega(x)$$\n",
    "\n",
    "We will use the definition for Big Oh to prove this by exchanging the terms $f$ and $g$. We are going to prove that\n",
    "\n",
    "$$x = O(x^2)$$\n",
    "\n",
    "This is true because\n",
    "\n",
    "$$\\lim_{x\\to\\infty}\\frac{x}{x^2} = \\lim_{x\\to\\infty}\\frac{1}{x} < \\infty$$\n",
    "\n",
    "Therefore, \n",
    "\n",
    "$$x^2 = \\Omega(x)$$\n",
    "\n",
    "#### Little Omega\n",
    "\n",
    "This notation is used to denote that one function grows stricly faster than another function.\n",
    "\n",
    "$$f(x) = \\omega(g(x))$$\n",
    "\n",
    "if and only if,\n",
    "\n",
    "$$\\lim_{x\\to\\infty} \\frac{g(x)}{f(x)} =0$$\n",
    "\n",
    "This is like the reverse of little Oh,\n",
    "\n",
    "$$f(x) = \\omega(g(x)) \\text{ if and only if } g(x) = o(f(x))$$\n",
    "\n",
    "For example,\n",
    "\n",
    "$$x^{1.5} = \\omega(x)$$\n",
    "\n",
    "This is true because\n",
    "\n",
    "$$\\lim_{x\\to\\infty} \\frac{x}{x^{1.5}} = \\lim_{x\\to\\infty} x^{-0.5} = \\lim_{x\\to\\infty} \\frac{1}{\\sqrt{x}} = 0$$\n",
    "\n",
    "\n",
    "#### Theta\n",
    "\n",
    "Sometimes, we want to specify both upper bound and lower bound at the same time. We use this notation,\n",
    "\n",
    "$$f = \\Theta(g)$$\n",
    "\n",
    "if and only if,\n",
    "\n",
    "$f=O(g)$ and $g=O(f)$\n",
    "\n",
    "For example, \n",
    "\n",
    "$$10n^3-20n^2+1 = \\Theta(n^3)$$\n",
    "\n",
    "We then have to prove both conditions, i.e. $f=O(g)$ and $g=O(f)$. So we will start with the first one.\n",
    "\n",
    "$$10n^3-20n^2+1 = O(n^3)$$\n",
    "\n",
    "This is true because\n",
    "\n",
    "$$\\lim_{x\\to\\infty} \\text{sup} \\frac{10n^3-20n^2+1}{n^3} = 10 < \\infty$$\n",
    "\n",
    "Now, we prove the second condition.\n",
    "\n",
    "$$n^3 = O(10n^3-20n^2+1 )$$\n",
    "\n",
    "This is also true because\n",
    "\n",
    "$$\\lim_{x\\to\\infty} \\text{sup} \\frac{n^3}{10n^3-20n^2+1} = \\frac{1}{10} < \\infty$$\n",
    "\n",
    "Therefore,\n",
    "\n",
    "$$10n^3-20n^2+1 = \\Theta(n^3)$$\n",
    "\n",
    "#### Analogies with Relation Operators\n",
    "\n",
    "These asymptotic notations can be understood better in relation to analogies with relational operators of numbers.\n",
    "\n",
    "| relational operator | asymptotic notation|\n",
    "|--------------|------------|\n",
    "| $f = g$    |  $f = \\Theta(g)$         |\n",
    "| $f < g$    |  $f = o(g)$         |\n",
    "| $f <= g$   | $ f= O(g)$         |\n",
    "| $f > g$    |  $f = \\omega(g)$     |\n",
    "| $f >= g$   | $f = \\Omega(g)$         |\n",
    "\n"
   ]
  },
  {
   "cell_type": "markdown",
   "metadata": {
    "colab_type": "text",
    "id": "9m210GYk0T5_"
   },
   "source": [
    "## Measuring Computation Time\n",
    "\n",
    "We are interested in the trend on the computation time as the number of input changes. For example, considering the sorting algorithms that we have considered thus far. How does the computation time increases as we increase the number of the input array? In analysing this, we are interested in the upper bound, and so we normally use the Big-Oh notation to indicate the upper bound of a computation time of a program.\n",
    "\n",
    "We can investigate this empirically by creating a list of different sizes, i.e. 10 elements, 100 elements, etc. We can then ask our sorting algorithm to sort these numbers. We can also compare the performance of the sorting algorithm when the input list is already sorted or when it is randomly shuffled. \n"
   ]
  },
  {
   "cell_type": "markdown",
   "metadata": {
    "colab_type": "text",
    "id": "9MUAXYlh0Wly"
   },
   "source": [
    "### Setup\n",
    "\n",
    "We generate the input array of integers with different number of elements from 10 up to 10,000, i.e. 10 elements, 100 elements, 1000 elements, and 10,000 elements. We run the sorting algorithms two times, one is when the input array is randomly shuffled and the second one is when the input array is already sorted from the smallest to the largest. We present the results for different algorithms in the next sections.\n",
    "\n",
    "### Bubble Sort\n",
    "\n",
    "If we run version 1 of Bubble Sort algorithm on the randomly shuffled array. The output time in seconds are shown here.\n",
    "\n",
    "```\n",
    "bubbletime = [5.7220458984375e-06, 2.2649765014648438e-05, 0.0014679431915283203, 0.2126140594482422, 25.051520347595215]\n",
    "```\n",
    "\n",
    "We can plot this and see the relationship between the number of elements and the computation time. To see the relationship better in this big range of number, we plot the log of $y$ and the log of $x$"
   ]
  },
  {
   "cell_type": "code",
   "execution_count": 35,
   "metadata": {
    "colab": {},
    "colab_type": "code",
    "id": "RRhpPLSa0kFf"
   },
   "outputs": [],
   "source": [
    "import matplotlib.pyplot as plt\n",
    "import numpy as np"
   ]
  },
  {
   "cell_type": "code",
   "execution_count": 36,
   "metadata": {},
   "outputs": [
    {
     "data": {
      "text/plain": [
       "[<matplotlib.lines.Line2D at 0x7fd23823e110>]"
      ]
     },
     "execution_count": 36,
     "metadata": {},
     "output_type": "execute_result"
    },
    {
     "data": {
      "image/png": "[encoded data removed]",
      "text/plain": [
       "<Figure size 432x288 with 1 Axes>"
      ]
     },
     "metadata": {
      "needs_background": "light"
     },
     "output_type": "display_data"
    }
   ],
   "source": [
    "nelements = [10, 100, 1000, 10000, 100000]\n",
    "bubbletime = [5.7220458984375e-06, 2.2649765014648438e-05, 0.0014679431915283203, 0.2126140594482422, 25.051520347595215]\n",
    "\n",
    "plt.title(\"Bubble Sort on Randomly Shuffled Array\")\n",
    "plt.xlabel(\"log(number of input)\")\n",
    "plt.ylabel(\"log(computation time (s))\")\n",
    "plt.plot(np.log(nelements), np.log(bubbletime),'o-')"
   ]
  },
  {
   "cell_type": "markdown",
   "metadata": {
    "colab_type": "text",
    "id": "RKhI1ytG3OTz"
   },
   "source": [
    "We can see that the computation time increases as the input increases. Moreover we can see that the relationship is almost a straight line when we plot the logarithmic of the y axis and the logarithmic of the x axis. In fact, the relationship is a quadratic. If we get the slope of this log plot, taking the x-axis between 6 to 10, we get:\n",
    "\n",
    "$$slope = \\frac{(0 - (-8))}{10 - 6} = 2$$\n",
    "\n",
    "which makes sense because if we have\n",
    "$$y = x^2$$\n",
    "\n",
    "Taking the log of both sides gives us\n",
    "\n",
    "$$\\log(y) = 2 \\log(x)$$\n",
    "\n",
    "\n",
    "In this equation the slope is 2 as shown on the plot. We can also check if it is quadratic by calculating the square of our input and see if it is a straight line. "
   ]
  },
  {
   "cell_type": "markdown",
   "metadata": {
    "colab_type": "text",
    "id": "Ygquxn2T8IDF"
   },
   "source": [
    "This means that the computation time of Bubble Sort algorithm is quadratic.\n",
    "\n",
    "$$T(n) = O(n^2)$$\n",
    "\n",
    "On the other hand, this is the computation time when the input is already sorted.\n",
    "\n",
    "```\n",
    "bubbletimeSorted = [6.4373016357421875e-06, 1.9073486328125e-06, 4.291534423828125e-06, 3.147125244140625e-05, 0.00030159950256347656]\n",
    "```\n",
    "\n",
    "We can plot this again on the same input."
   ]
  },
  {
   "cell_type": "code",
   "execution_count": 37,
   "metadata": {
    "colab": {
     "base_uri": "https://localhost:8080/",
     "height": 421
    },
    "colab_type": "code",
    "id": "tKiv0KTT8t5G",
    "outputId": "4e532da9-3bde-49a9-c0ca-7c8aeb93f49c"
   },
   "outputs": [
    {
     "data": {
      "text/plain": [
       "[<matplotlib.lines.Line2D at 0x7fd23829eb90>]"
      ]
     },
     "execution_count": 37,
     "metadata": {},
     "output_type": "execute_result"
    },
    {
     "data": {
      "image/png": "[encoded data removed]",
      "text/plain": [
       "<Figure size 432x288 with 1 Axes>"
      ]
     },
     "metadata": {
      "needs_background": "light"
     },
     "output_type": "display_data"
    }
   ],
   "source": [
    "nelements = [10, 100, 1000, 10000, 100000]\n",
    "bubbletimeSorted = [6.4373016357421875e-06, 1.9073486328125e-06, 4.291534423828125e-06, 3.147125244140625e-05, 0.00030159950256347656]\n",
    "\n",
    "plt.title(\"Bubble Sort on an Already Sorted Array\")\n",
    "plt.xlabel(\"log(number of input)\")\n",
    "plt.ylabel(\"log(computation time (s))\")\n",
    "plt.plot(np.log(nelements), np.log(bubbletimeSorted),'o-')\n",
    "\n"
   ]
  },
  {
   "cell_type": "markdown",
   "metadata": {},
   "source": [
    "Taking the slope between 8 to 11, we have approximately the following slope:\n",
    "\n",
    "$$slope = \\frac{(-8 - (-11))}{(11 - 8)} = 1$$\n",
    "\n",
    "We don't take the first few data points because it is is limited by the accuracy of the floating point number in Python when the number is too small, e.g. $\\approx 10^{-12}$."
   ]
  },
  {
   "cell_type": "markdown",
   "metadata": {
    "colab_type": "text",
    "id": "1qw_S4KC9pBl"
   },
   "source": [
    "Notice that the computation time now falls in a straight line with a slope of about 1. This shows that when the input is already sorted, the computation time increases linearly instead of quadratically as the input increases. This means that in the best case scenario for the computation time is linear.\n",
    "\n",
    "$$T(n) = O(n)$$"
   ]
  },
  {
   "cell_type": "markdown",
   "metadata": {
    "colab_type": "text",
    "id": "MtIidJkD9pvq"
   },
   "source": [
    "### Insertion Sort\n",
    "\n",
    "We can do the same with Insertion Sort Algorithm. Below is the output when the input is randomly shuffled.\n",
    "\n",
    "```\n",
    "insertiontime = [6.198883056640625e-06, 7.867813110351562e-06, 0.0006382465362548828, 0.06774091720581055, 6.839613199234009]\n",
    "```\n",
    "\n",
    "We can plot this with the same input."
   ]
  },
  {
   "cell_type": "code",
   "execution_count": 38,
   "metadata": {
    "colab": {
     "base_uri": "https://localhost:8080/",
     "height": 421
    },
    "colab_type": "code",
    "id": "eTyLV2yr9vEI",
    "outputId": "dc8ae9fd-0637-4ccb-fa78-3d6edc6ded5e"
   },
   "outputs": [
    {
     "data": {
      "text/plain": [
       "[<matplotlib.lines.Line2D at 0x7fd2585eb850>]"
      ]
     },
     "execution_count": 38,
     "metadata": {},
     "output_type": "execute_result"
    },
    {
     "data": {
      "image/png": "[encoded data removed]",
      "text/plain": [
       "<Figure size 432x288 with 1 Axes>"
      ]
     },
     "metadata": {
      "needs_background": "light"
     },
     "output_type": "display_data"
    }
   ],
   "source": [
    "nelements = [10, 100, 1000, 10000, 100000]\n",
    "insertiontime = [6.198883056640625e-06, 7.867813110351562e-06, 0.0006382465362548828, 0.06774091720581055, 6.839613199234009]\n",
    "\n",
    "plt.title(\"Insertion Sort on Randomly Shuffled Array\")\n",
    "plt.xlabel(\"log(number of input)\")\n",
    "plt.ylabel(\"log(computation time (s))\")\n",
    "plt.plot(np.log(nelements), np.log(insertiontime),'o-')"
   ]
  },
  {
   "cell_type": "markdown",
   "metadata": {
    "colab_type": "text",
    "id": "2tIto8ow-ALZ"
   },
   "source": [
    "We can again notice that the computation time increases in this logarithmic scales with a slope of about 2. This means that the computation time is also quadratic."
   ]
  },
  {
   "cell_type": "markdown",
   "metadata": {
    "colab_type": "text",
    "id": "5Qw7rH-L-TJ0"
   },
   "source": [
    "For now, we can say that the computation time for Insertion Sort is quadratic.\n",
    "\n",
    "$$T(n) = O(n^2)$$\n",
    "\n",
    "On the other hand, this is the output when the input is already sorted.\n",
    "\n",
    "```\n",
    "insertiontimeSorted = [5.7220458984375e-06, 1.430511474609375e-06, 4.0531158447265625e-06, 3.123283386230469e-05, 0.0003333091735839844]\n",
    "```\n",
    "\n",
    "And if we plot, we will see the following."
   ]
  },
  {
   "cell_type": "code",
   "execution_count": 39,
   "metadata": {
    "colab": {
     "base_uri": "https://localhost:8080/",
     "height": 421
    },
    "colab_type": "code",
    "id": "K2tFZwoe-XWZ",
    "outputId": "8988b5a3-b933-4ee6-f1c6-edfd698a5b23"
   },
   "outputs": [
    {
     "data": {
      "text/plain": [
       "[<matplotlib.lines.Line2D at 0x7fd278183150>]"
      ]
     },
     "execution_count": 39,
     "metadata": {},
     "output_type": "execute_result"
    },
    {
     "data": {
      "image/png": "[encoded data removed]",
      "text/plain": [
       "<Figure size 432x288 with 1 Axes>"
      ]
     },
     "metadata": {
      "needs_background": "light"
     },
     "output_type": "display_data"
    }
   ],
   "source": [
    "nelements = [10, 100, 1000, 10000, 100000]\n",
    "insertiontimeSorted = [5.7220458984375e-06, 1.430511474609375e-06, 4.0531158447265625e-06, 3.123283386230469e-05, 0.0003333091735839844]\n",
    "\n",
    "plt.title(\"Insertion Sort on an Already Sorted Array\")\n",
    "plt.xlabel(\"log(number of input)\")\n",
    "plt.ylabel(\"log(computation time (s))\")\n",
    "plt.plot(np.log(nelements), np.log(insertiontimeSorted),'o-')"
   ]
  },
  {
   "cell_type": "markdown",
   "metadata": {
    "colab_type": "text",
    "id": "B9x6r_wL-sRU"
   },
   "source": [
    "Similarly, in this plot, looking at the x axis between 7 to 11, the slope is about 1 indicating that the computation time is linear. So the computation time when the input is already sorted is linearly increasing with the input numbers, similar to Bubble Sort. This means that in the best case scenario, the computation time for Insertion Sort is linear.\n",
    "\n",
    "$$T(n) = O(n)$$"
   ]
  },
  {
   "cell_type": "markdown",
   "metadata": {
    "colab_type": "text",
    "id": "NGf5zqoc-s3-"
   },
   "source": [
    "### Heapsort\n",
    "\n",
    "We can now check the computation time for heapsort algorithm. The computation time for randomly shuffled array is as shown below.\n",
    "\n",
    "```\n",
    "heapsorttime = [5.0067901611328125e-06, 7.867813110351562e-06, 9.512901306152344e-05, 0.0012400150299072266, 0.015644311904907227, 0.21677017211914062]\n",
    "```\n",
    "\n",
    "A quick look actually shows that heapsort is much faster the other two. Let's plot it."
   ]
  },
  {
   "cell_type": "code",
   "execution_count": 40,
   "metadata": {
    "colab": {
     "base_uri": "https://localhost:8080/",
     "height": 421
    },
    "colab_type": "code",
    "id": "VaoWPp5VmneL",
    "outputId": "17676f90-b52f-4b05-ed95-c4024738d3b5"
   },
   "outputs": [
    {
     "data": {
      "text/plain": [
       "[<matplotlib.lines.Line2D at 0x7fd2781ee210>]"
      ]
     },
     "execution_count": 40,
     "metadata": {},
     "output_type": "execute_result"
    },
    {
     "data": {
      "image/png": "[encoded data removed]",
      "text/plain": [
       "<Figure size 432x288 with 1 Axes>"
      ]
     },
     "metadata": {
      "needs_background": "light"
     },
     "output_type": "display_data"
    }
   ],
   "source": [
    "nelements = [10, 100, 1000, 10000, 100000, 1000000]\n",
    "heapsorttime = [5.0067901611328125e-06, 7.867813110351562e-06, 9.512901306152344e-05, 0.0012400150299072266, 0.015644311904907227, 0.21677017211914062]\n",
    "\n",
    "plt.title(\"Heapsort on Randomly Shuffled Array\")\n",
    "plt.xlabel(\"log(number of input)\")\n",
    "plt.ylabel(\"log(computation time (s))\")\n",
    "plt.plot(np.log(nelements), np.log(heapsorttime),'o-')"
   ]
  },
  {
   "cell_type": "markdown",
   "metadata": {
    "colab_type": "text",
    "id": "ONSi6446nCI7"
   },
   "source": [
    "We can see that the logarithmic plot has the slope of about:\n",
    "\n",
    "$$\\frac{(-4-(-8))}{(12-8)} \\approx \\frac{4}{4} \\approx 1$$\n",
    "\n",
    "The slope is actually slightly greater than one if we compute accurately. We found out that the computation time is not linear and it is not quadratic. You can notice that the computation time for 1,000,000 input elements are only about 0.2 seconds. The other algorithms were too slow to compute this amount of input elements and so we only compute up to 100,000 elements. For 100,000 elements, Bubble Sort takes about 25 seconds while Insertion Sort takes about 7 seconds. Compare this with heapsort which only takes 0.016 seconds.\n",
    "\n",
    "It turns out that the computation time for Heapsort is logarithmic. We can see a linear relationship if the x-axis is computed as $n*log(n)$. We will plot the y axis as it is. See the plot below."
   ]
  },
  {
   "cell_type": "code",
   "execution_count": 41,
   "metadata": {
    "colab": {
     "base_uri": "https://localhost:8080/",
     "height": 421
    },
    "colab_type": "code",
    "id": "hujM1DuyoEqD",
    "outputId": "31463c69-a81d-410c-a67c-885213094c0a"
   },
   "outputs": [
    {
     "data": {
      "text/plain": [
       "[<matplotlib.lines.Line2D at 0x7fd27825d190>]"
      ]
     },
     "execution_count": 41,
     "metadata": {},
     "output_type": "execute_result"
    },
    {
     "data": {
      "image/png": "[encoded data removed]",
      "text/plain": [
       "<Figure size 432x288 with 1 Axes>"
      ]
     },
     "metadata": {
      "needs_background": "light"
     },
     "output_type": "display_data"
    }
   ],
   "source": [
    "nelements = np.array([10, 100, 1000, 10000, 100000, 1000000])\n",
    "nlog = nelements * np.log(nelements)\n",
    "heapsorttime = [5.0067901611328125e-06, 7.867813110351562e-06, 9.512901306152344e-05, 0.0012400150299072266, 0.015644311904907227, 0.21677017211914062]\n",
    "\n",
    "plt.title(\"Heapsort on Randomly Shuffled Array\")\n",
    "plt.xlabel(\"number of input * log(number of input)\")\n",
    "plt.ylabel(\"computation time (s)\")\n",
    "plt.plot(nlog, heapsorttime,'o-')"
   ]
  },
  {
   "cell_type": "markdown",
   "metadata": {
    "colab_type": "text",
    "id": "5xlnKd1qovaW"
   },
   "source": [
    "Notice that now the points fall almost in a straight line. This means that the computation time for heapsort is:\n",
    "\n",
    "$$T(n) = O(n\\log(n))$$\n",
    "\n",
    "Now, what happens when we run the algorithm on an already sorted list? It turns out, that the computation time for different number of input elements are as follows.\n",
    "\n",
    "```\n",
    "heapsorttimeSorted = [1.2874603271484375e-05, 7.3909759521484375e-06, 7.82012939453125e-05, 0.0008978843688964844, 0.009733200073242188, 0.11059808731079102]\n",
    "```\n",
    "\n",
    "It turns out that the computation time is still\n",
    "\n",
    "$$T(n) = O(n\\log(n))$$\n",
    "\n",
    "We can plot this after modifying the x-axis accordingly."
   ]
  },
  {
   "cell_type": "code",
   "execution_count": 42,
   "metadata": {
    "colab": {
     "base_uri": "https://localhost:8080/",
     "height": 421
    },
    "colab_type": "code",
    "id": "KnFBfGXqqtF0",
    "outputId": "d3588b09-3961-4cab-a745-93c93eb7aad0"
   },
   "outputs": [
    {
     "data": {
      "text/plain": [
       "[<matplotlib.lines.Line2D at 0x7fd2b84a6c10>]"
      ]
     },
     "execution_count": 42,
     "metadata": {},
     "output_type": "execute_result"
    },
    {
     "data": {
      "image/png": "[encoded data removed]",
      "text/plain": [
       "<Figure size 432x288 with 1 Axes>"
      ]
     },
     "metadata": {
      "needs_background": "light"
     },
     "output_type": "display_data"
    }
   ],
   "source": [
    "nelements = np.array([10, 100, 1000, 10000, 100000, 1000000])\n",
    "nlog = nelements * np.log(nelements)\n",
    "heapsorttimeSorted = [1.2874603271484375e-05, 7.3909759521484375e-06, 7.82012939453125e-05, 0.0008978843688964844, 0.009733200073242188, 0.11059808731079102]\n",
    "\n",
    "plt.title(\"Heapsort on an already Sorted Shuffled Array\")\n",
    "plt.xlabel(\"number of input * log(number of input)\")\n",
    "plt.ylabel(\"computation time (s)\")\n",
    "plt.plot(nlog, heapsorttime,'o-')"
   ]
  },
  {
   "cell_type": "markdown",
   "metadata": {
    "colab_type": "text",
    "id": "jKOqbt9gqsQC"
   },
   "source": [
    "Let's summarize our findings in a table form.\n",
    "\n",
    "| Sorting Algorithm | Random List   | Sorted List $T(n)$  |\n",
    "|-------------------|---------------|---------------|\n",
    "| Bubble Sort       | $O(n^2)$      | $O(n)$ |\n",
    "| Insertion Sort    | $O(n^2)$      | $O(n)$ |\n",
    "| Heapsort          | $O(n\\log(n))$ | $O(n\\log(n))$|"
   ]
  },
  {
   "cell_type": "markdown",
   "metadata": {
    "colab_type": "text",
    "id": "JpV21uB2plC6"
   },
   "source": [
    "## Analysing Computation Time Using Model\n",
    "\n",
    "Given a computer program, can we analyse what is the computation time without resolving to the experimentation as we did in the previous section? In this section, we will introduce how we can analyse computer program by looking into the code and applying some computational time model. \n",
    "\n",
    "To do so, we are going to indicate using asymptotic notation. In particular we will use the big Oh notation for this purpose."
   ]
  },
  {
   "cell_type": "markdown",
   "metadata": {
    "colab_type": "text",
    "id": "PklvXrtZh_SY"
   },
   "source": [
    "### Bubble Sort Computation Time\n",
    "\n",
    "Let's take a look at the pseudocode version 1 for Bubble Sort.\n",
    "\n",
    "```\n",
    "Bubble Sort \n",
    "Version: 1\n",
    "Input: array\n",
    "Output: None, sort in place\n",
    "Steps:\n",
    "1. n = length of array\n",
    "2. For outer_index from 1 to n-1, do:\n",
    "    2.1 For inner_index from 1 to n-1, do:\n",
    "        2.1.1 first_number = array[inner_index - 1]\n",
    "        2.1.2 second_number = array[inner_index]\n",
    "        2.1.3 if first_number > second_number, do:\n",
    "            2.1.3.1 swap(first_number, second_number)\n",
    "```\n",
    "\n",
    "Computation time:\n",
    "\n",
    "* step 1: constant time, $O(1)$.\n",
    "* steps 2: n-1 times, so $O(n-1) = O(n)$\n",
    "    * step 2.1: n-1 times, so $O(n)$\n",
    "        * step 2.1.1 to 2.1.3, are all constant time, so it's $3 \\times O(1) = O(1)$\n",
    "        \n",
    "So we can compute the computation time for Bubble Sort as follows.\n",
    "\n",
    "$T(n) = O(1) + O(n) \\times (O(n) \\times( O(1)))$\n",
    "\n",
    "This can be simplified to\n",
    "\n",
    "$T(n) = O(1) + O(n) \\times O(n)$\n",
    "\n",
    "$T(n) = O(1) + O(n^2)$\n",
    "\n",
    "$T(n) = O(n^2)$\n",
    "\n",
    "This agrees with the previous section when we state that computational time for Bubble Sort is quadratic. We can also say that the computation is polynomial time. \n",
    "\n",
    "Let's take a look at version 4 of Bubble Sort.\n",
    "\n",
    "```\n",
    "Bubble Sort\n",
    "Version: 4\n",
    "Input: array\n",
    "Output: None, sort in place\n",
    "Steps:\n",
    "1. n = length of array\n",
    "2. swapped = True\n",
    "3. As long as swapped is True, do:\n",
    "    3.1 swapped = False\n",
    "    3.2 new_n = 0\n",
    "    3.3 For inner_index from 1 to n-1, do:\n",
    "        3.3.1 first_number = array[inner_index - 1]\n",
    "        3.3.2 second_number = array[inner_index]\n",
    "        3.3.3 if first_number > second_number, do:\n",
    "            3.3.3.1 swap(first_number, second_number)\n",
    "            3.3.3.2 swapped = True\n",
    "            3.3.3.3 new_n = inner_index\n",
    "    3.4 n = new_n\n",
    "```\n",
    "\n",
    "Computation time:\n",
    "\n",
    "* steps 1 and 2 are constant time, it's $2 \\times O(1)$ or simply $O(1)$. \n",
    "* step 3 is executed as long as there is a swap. In this case, we can consider the worst case scenario. In the worst case, the number of swap will be the same as $n-1$. In this case the computation time is $O(n)$. In the best case scenario, there is no swap because it is already sorted, and the computation time is $O(1)$. So on average, the computation time is $O(n/2)$, which is the same as $O(n)$. \n",
    "    * steps 3.1 and 3.2 are constant time, it's $O(1)$. \n",
    "    * step 3.3 is $n-1$ times, so the computation time is $O(n)$. \n",
    "        * steps 3.3.1 to 3.3.3 are all constant time, it's $O(1)$. \n",
    "    * step 3.4 is also constant time, $O(1)$.\n",
    "    \n",
    "    \n",
    "We can calculate the computation time on *average* as:\n",
    "\n",
    "$T(n) = 2 \\times O(1) + O(n) \\times (2\\times O(1) + O(n) \\times (3\\times O(1)) + O(1))$\n",
    "\n",
    "This can be simplified to\n",
    "\n",
    "$T(n) = O(1) + O(n) \\times(O(1) + O(n) + O(1))$\n",
    "\n",
    "$T(n) = O(1) + O(n) \\times O(n)$\n",
    "\n",
    "$T(n) = O(1) + O(n^2) $\n",
    "\n",
    "$T(n) = O(n^2)$\n",
    "\n",
    "So the optimised Bubble Sort in version 4 is still polynomial time, which is quadratic.\n",
    "\n",
    "\n",
    "\n"
   ]
  },
  {
   "cell_type": "markdown",
   "metadata": {
    "colab_type": "text",
    "id": "UC__8ntfm_H-"
   },
   "source": [
    "## Insertion Sort Computation Time\n",
    "\n",
    "Now, let's consider Insertion Sort computation time. We will use version 2 of Insertion Sort pseudocode.\n",
    "\n",
    "```\n",
    "Insertion Sort \n",
    "Version: 2\n",
    "Input: array\n",
    "Output: None, sort in place\n",
    "Steps:\n",
    "1. n = length of array\n",
    "2. For outer_index in Range(from 1 to n-1), do:\n",
    "    2.1 inner_index = outer_index  # start with the i-th element\n",
    "    2.2 temporary = array[inner_index]\n",
    "    2.3 As long as (inner_index > 0) AND (temporary < array[inner_index - 1]), do:\n",
    "        2.3.1 array[inner_index] = array[inner_index - 1]) # shift to the right\n",
    "        2.3.2 inner_index = inner_index - 1  # move to the left\n",
    "    2.4 array[inner_index] = temporary # save temporary to its final position\n",
    "```\n",
    "\n",
    "Computation time:\n",
    "\n",
    "* step 1 is $O(1)$\n",
    "* step 2 is executed $n-1$, so the time is $O(n)$.\n",
    "    * steps 2.1 and 2.2 are all constant time, so it is $O(1)$.\n",
    "    * step 2.3 is executed depending on the actual values in the array. In the worst case it is $n-1$ times, and in the best case it's already ordered and executed as constant time. In average, then the computation time is $O(n/2)$ or simply $O(n)$. \n",
    "        * steps 2.3.1 and 2.3.2 are constant time, i.e. $O(1)$.\n",
    "    * step 2.4 is also constant time, i.e. $O(1)$.\n",
    "    \n",
    "We can calculate the computation time as follows.\n",
    "\n",
    "$T(n) = O(1) + O(n) \\times (2 \\times O(1) + O(n) \\times(O(1)) + O(1) )$\n",
    "\n",
    "$T(n) = O(1) + O(n) \\times ( O(1) + O(n) + O(1) )$\n",
    "\n",
    "$T(n) = O(1) + O(n) \\times  O(n) $\n",
    "\n",
    "$T(n) = O(1) + O(n^2) $\n",
    "\n",
    "$T(n) = O(n^2) $\n",
    "\n",
    "So Insertion sort is similar to Bubble sort in its computational time, which is a polynomial time and it's quadratic relationship with respect to the number of input."
   ]
  },
  {
   "cell_type": "markdown",
   "metadata": {
    "colab_type": "text",
    "id": "RuVWYLpJpQ1j"
   },
   "source": [
    "## Heapsort\n",
    "\n",
    "Now, we will consider heapsort algorithm's computation time. The pseudocode can be written as follows:\n",
    "\n",
    "```\n",
    "def heapsort(array):\n",
    "Input:\n",
    "  - array: any arbitrary array\n",
    "Output: None\n",
    "Steps:\n",
    "1. call build-max-heap(array)\n",
    "2. heap_end_pos = length of array - 1 # index of the last element in the heap\n",
    "3. As long as (heap_end_pos > 0), do:\n",
    "    3.1 swap( array[0], array[heap_end_pos])\n",
    "    3.2 heap_end_pos = heap_end_pos -1 # reduce heap size\n",
    "    3.3 call max-heapify(array[from index 0 to heap_end_pos inclusive], 0)\n",
    "```\n",
    "\n",
    "Computation time:\n",
    "\n",
    "* step 1 depends on computation time for build-max-heap() algorithm. We'll come to this later.\n",
    "* step 2 is constant time, i.e. $O(1)$\n",
    "* step 3 is done from $n-1$ , which is the last element in the array, down to 1, which is the second element. This means that it is executed $n-1$ times, so the computation time is $O(n)$.\n",
    "    * steps 3.1 and 3.2 are constant time, $O(1)$.\n",
    "    * step 3.3 depends on computation time for max-heapify().\n",
    "    \n",
    "To get the computation time for heapsort, we need to check what is the computation time for `build-max-heap()` and `max-heapify`. Let's start with the first one.\n",
    "\n",
    "### Computation Time for Build-Max-Heap\n",
    "\n",
    "```\n",
    "def build-max-heap(array):\n",
    "Input:\n",
    "  - array: arbitrary array of integers\n",
    "Output: None, sort the element in place\n",
    "Steps:\n",
    "1. n = length of array\n",
    "2. starting_index = integer(n / 2) - 1 # start from the middle or non-leaf node\n",
    "3. For current_index in Range(from starting_index down to 0), do:\n",
    "    3.1 call max-heapify(array, current_index)\n",
    "```\n",
    "\n",
    "Computation time:\n",
    "\n",
    "* step 1 and 2 are constant time, $O(1)$.\n",
    "* step 3 is fixed and executed for $n/2$ times. We can say that the computation time is $O(n)$.\n",
    "* step 3.1 on the other hand depends on the computation time for `max-heapify`.\n",
    "\n",
    "### Computation Time for Max-Heapify\n",
    "\n",
    "```\n",
    "def max-heapify(A, i):\n",
    "version: 2\n",
    "Input: \n",
    "  - A = array storing the heap\n",
    "  - i = index of the current node to restore max-heap property\n",
    "Output: None, restore the element in place\n",
    "Steps:\n",
    "1. current_i = i # current index starting from input i\n",
    "2. swapped = True\n",
    "3. As long as ( left(current_i) < length of array) AND swapped, do:\n",
    "    3.1 swapped = False\n",
    "    3.2 max_child_i = get the index of largest child of the node current_i\n",
    "    3.3 if array[max_child_i] > array[current_i], do:\n",
    "        3.3.1 swap( array[max_child_i], array[current_i])\n",
    "        3.3.2 swapped = True\n",
    "    3.3 current_i = max_child_i # move to the index of the largest child\n",
    "```\n",
    "\n",
    "Computation time for `max-heapify()`:\n",
    "* step 1 and 2 are constant time, $O(1)$.\n",
    "* step 3, in average is executed in $O(\\log(n))$ time.\n",
    "    * steps 3.1 to 3.4 are all constant time, $O(1)$.\n",
    "        * steps 3.3.1 and 3.3.2 are also constant time, $O(1)$.\n",
    "        \n",
    "\n",
    "\n",
    "In this case, computation time is:\n",
    "\n",
    "$T(n) = O(1) + O(\\log(n)) \\times (O(1) \\times O(1))$\n",
    "\n",
    "$T(n) = O(\\log(n))$\n",
    "\n",
    "### How do we get the $\\log(n)$ time for step 3?\n",
    "\n",
    "You can skip this part if you want. But for those curious, let's represent some example of binary tree and calculate the number of levels and its nodes or elements. In the below table, we represent the nodes at different levels with different symbols. For example, when there are 3 levels (level 2 row in the table), the only node in level 0 is represented as `o`, level 1 nodes are represented as `x` (there are two of them), and level 2 nodes are represented as `o` again (there are four of them, two for each `x` node in level 1).\n",
    "\n",
    "| level | diagram (different level using different symbol)                 | nodes at level i | total number of nodes |\n",
    "|-------|---------------------------|--------------------|-------------------------|\n",
    "| 0     | o                         | 1                  | 1                       |\n",
    "| 1     | o xx                      | 2                  | 3                       |\n",
    "| 2     | o x x oo oo               | 4                  | 7                       |\n",
    "| 3     | o x x  oo oo xx xx  xx xx | 8                  | 15                      |\n",
    "\n",
    "From the above table we can see that the maximum number of elements at level *i* can be calculated from the level position as\n",
    "\n",
    "$$n_{i} = 2^i$$\n",
    "\n",
    "For example, at level $i=3$, the maximum number of elements can be up to $n = 2^3 = 8$. The total number of elements can, therefore, be calculated from\n",
    "\n",
    "$$n = \\sum^{i_{max}}_{i = 0} 2^i$$\n",
    "\n",
    "In a geometric series, we can find the closed form of the summation as follows.\n",
    "\n",
    "$$a + ar + ar^2 + \\ldots + ar^{n-1} = \\frac{a(1-r^n)}{1-r}$$\n",
    "\n",
    "In our summation for the number of nodes $n$ in a binary heap, $a=1$ and $r=2$, and the number of terms is $i_{max}+1$. Therefore,\n",
    "\n",
    "$$n = \\frac{(1-2^{i_{max}+1})}{1-2}$$\n",
    "\n",
    "$$n = 2^{i_{max}+1}-1$$\n",
    "\n",
    "For example, if there are three levels, $i_{max} = 3$, then the maximum total number of elements is $n = 2^4-1 =16-1=15$.\n",
    "\n",
    "This also means that we can get the number of levels from the number of elements in the tree by doing its inverse function as follows.\n",
    "\n",
    "$$level =\\lfloor{ \\log_2(n)}\\rfloor$$\n",
    "\n",
    "In computing, we usually understand that the base of the log is 2. Therefore, we usually omit the base in our equation.\n",
    "\n",
    "$$level =\\lfloor{ \\log(n)}\\rfloor$$\n",
    "\n",
    "Let's come back to step 3. This step is executed by moving `current_i` from one node to another node. The movement is always from the parent to the child node. This means that it moves in the vertical direction in the binary tree across the levels. Since there are $\\log(n)$ levels, the maximum number of moves will be $\\log(n)-1$. That's why we say that the computation time is $O(\\log(n))$. \n"
   ]
  },
  {
   "cell_type": "markdown",
   "metadata": {
    "colab_type": "text",
    "id": "qjqGUESv1_ig"
   },
   "source": [
    "### Total Computation Time for Heapsort\n",
    "\n",
    "Let's recall and summarize the computation time of the different procedures.\n",
    "\n",
    "* Heapsort\n",
    "\n",
    "    $T(n) = T_{build-max-heap}(n) + O(1) + O(n) \\times(O(1)+ T_{max-heapify}(n))$\n",
    "    \n",
    "    $T(n) = T_{build-max-heap}(n) + O(n) \\times T_{max-heapify}(n)$\n",
    "    \n",
    "* Build-Max-Heap\n",
    "\n",
    "    $T_{build-max-heap}(n) = O(1) + O(n) \\times T_{max-heapify}$\n",
    "    \n",
    "    $T_{build-max-heap}(n) = O(n) \\times T_{max-heapify}$\n",
    "    \n",
    "* Max-Heapify\n",
    "\n",
    "    $T_{max-heapify}(n) = O(\\log(n))$\n",
    "    \n",
    "From this we can calculate that the computation time for `build-max-heapify()` is\n",
    "\n",
    "$T_{build-max-heap}(n) = O(n) \\times O(\\log(n))$\n",
    "\n",
    "$T_{build-max-heap}(n) = O(n\\log(n))$\n",
    "\n",
    "We can then substitute this to the computation time for Heapsort to get\n",
    "\n",
    "$T(n) = O(n\\log(n)) + O(n) \\times O(\\log(n))$\n",
    "\n",
    "$T(n) = O(n\\log(n)) + O(n\\log(n))$\n",
    "\n",
    "$T(n) = O(n\\log(n)) $\n",
    "\n"
   ]
  },
  {
   "cell_type": "markdown",
   "metadata": {
    "colab_type": "text",
    "id": "5Bhivrdi4cC6"
   },
   "source": [
    "# Computational Time Summary\n",
    "\n",
    "In summary, different algorithm may have different performance in terms of computational time. The following image shows the different plots for some common computational time in computing.\n",
    "\n",
    "![](https://interactivepython.org/runestone/books/published/pythonds/_images/newplot.png)\n",
    "\n",
    "In our examples above, both Bubble Sort and Insertion sort is quadratic while Heapsort is log linear. We can see that Heapsort is much faster as the number of elements grows big. "
   ]
  }
 ],
 "metadata": {
  "colab": {
   "collapsed_sections": [],
   "include_colab_link": true,
   "name": "ComputationTime.ipynb",
   "provenance": []
  },
  "kernelspec": {
   "display_name": "Python 3 (ipykernel)",
   "language": "python",
   "name": "python3"
  },
  "language_info": {
   "codemirror_mode": {
    "name": "ipython",
    "version": 3
   },
   "file_extension": ".py",
   "mimetype": "text/x-python",
   "name": "python",
   "nbconvert_exporter": "python",
   "pygments_lexer": "ipython3",
   "version": "3.8.5"
  }
 },
 "nbformat": 4,
 "nbformat_minor": 4
}
