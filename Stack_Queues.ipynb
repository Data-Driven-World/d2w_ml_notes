{
 "cells": [
  {
   "cell_type": "markdown",
   "metadata": {},
   "source": [
    "# Data Structure\n",
    "\n",
    "### What is a data structure? Why do we use them?\n",
    "\n",
    "Data structures are a way of storing data/information, in a way that it is organized efficiently and convenient to access. This means that they should allow for successful access within the shortest time.\n",
    "\n",
    "There are a lot of different kinds of data structures, and we will be learning the **Linear Data Structures** - Stack and Queue.\n",
    "\n",
    "---\n",
    "\n",
    "# Stack Data Structure\n",
    "\n",
    "Stack is a type of data structure that follows the LIFO (Last in First out) principle.\n",
    "\n",
    "## Stack Operations\n",
    "Imagine a **stack** of book. \n",
    "<center><img src=https://cdn.pixabay.com/photo/2012/04/03/13/26/books-25154_960_720.png height=250 width=250></center>\n",
    "\n",
    "If you want to put a book to the stack of the book, you will put it on top of the stack. This process is called **push**.\n",
    "\n",
    "Taking the top book of the stack (which is the last book to be put into the stack) is a process called **pop**.  \n",
    "\n",
    "<center><img src=https://upload.wikimedia.org/wikipedia/commons/a/a8/Programming-stack.png></center>\n",
    "\n",
    "**Peek** is a process of retrieving the first element of the stack without removing it from the stack, similar to just looking at what book lies on top of the stack.\n",
    "\n",
    "As such a stack has the following attributes and methods ...\n",
    "\n",
    "\n",
    "\n",
    "```\n",
    "Stack\n",
    "Attributes:\n",
    "1. items\n",
    "\n",
    "Methods:\n",
    "1. Push // insert\n",
    "2. Pop // remove and read\n",
    "3. Peek // only read\n",
    "```\n",
    "\n",
    "\n"
   ]
  },
  {
   "cell_type": "markdown",
   "metadata": {},
   "source": [
    "# Queue\n",
    "\n",
    "Queue is a data structure that follows the FIFO (First in First out) principle.\n",
    "\n",
    "-insert image here-\n",
    "\n",
    "In other words, a queue works exactly like how it does in real life. Suppose you and your friend are queueing up for your favourite cai peng stall. If you're before him in the queue, you get your food first. A queue works the same way. Queues are similar to stacks. You can't access random elements in the queue. Instead, there are only two main operations - `enqueue` and `dequeue`\n",
    "\n",
    "## Queue Operations\n",
    "<center><img src=https://upload.wikimedia.org/wikipedia/commons/thumb/5/52/Data_Queue.svg/405px-Data_Queue.svg.png></center>\n",
    "\n",
    "\n",
    "As such a queue has the following methods ...\n",
    "\n",
    "```\n",
    "Queue\n",
    "Attributes:\n",
    "1. items\n",
    "\n",
    "Methods:\n",
    "1. Enqueue\n",
    "2. Dequeue\n",
    "3. Peek\n",
    "```"
   ]
  },
  {
   "cell_type": "markdown",
   "metadata": {},
   "source": [
    "# Evaluate Expression\n",
    "\n",
    "`EvaluateExpression` is used to evaluate mathematical expressions for Integers. The class should only accept integer numbers and valid operators such as +,-,*,/, and (). We will implement this class using stack.\n",
    "\n",
    "`EvaluateExpressions` will have 2 stacks, 1 for operands and another 1 for operator.  \n",
    "\n",
    "|Operator|Operand|\n",
    "|-|-|\n",
    "|.|.|\n",
    "|.|.|\n",
    "|.|.|\n",
    "|Bottom|of stack|\n",
    "\n",
    "Take the expression `3 + 5`. EvaluateExpression will process the expression from left to right. When it finds a number, in this instance is `3`, it will immediately push it to the stack.\n",
    "\n",
    "|Operator|Operand|\n",
    "|-|-|\n",
    "|.|.|\n",
    "|.|.|\n",
    "|.|3|\n",
    "\n",
    "When it finds `+` which is an operator, it will **process all other operands first in the stack.** The reason is because `+` has a lower priority than some other operators like `*` and `/`. This is especially true when the expression is `2 * 3 + 5` where at the time `+` is met, `2 * 3` must be processed first. Note that if you meet a `(`, you should stop processing there, like in the case of `5 + ( 2 * 3 + 5 )`.\n",
    "\n",
    "For `3 + 5`, the operator stack is empty, so we can immediately push to the operator stack.\n",
    "\n",
    "|Operator|Operand|\n",
    "|-|-|\n",
    "|.|.|\n",
    "|.|.|\n",
    "|+|3|\n",
    "\n",
    "After `+` is `5`,\n",
    "\n",
    "|Operator|Operand|\n",
    "|-|-|\n",
    "|.|.|\n",
    "|.|5|\n",
    "|+|3|\n",
    "\n",
    "As we have reached the last character of the expression, we need to process all operators we have in the stack. 1 operator needs 2 operand, thus we pop operator stack once and operand stack twice. Note that the order of operands when we pop from the stack is important! If the operator was `-`, `3-5` will be different from `5-3`."
   ]
  },
  {
   "cell_type": "markdown",
   "metadata": {},
   "source": [
    "# Radix Sort with Queue\n",
    "\n",
    "## What is Radix Sort?\n",
    "Radix sort is a non-comparison sorting algorithm for **integers** by grouping integers by individual digits that share the same positon and value. It utilizes 10 \"buckets\" numbered from 0-9 to sort.\n",
    "\n",
    "Radix sort will go through each digit of all numbers and put them in the buckets matching their digit, and take them out again, repeating until all digits are checked.\n",
    "\n",
    "A simple animation for radix sorting:  \n",
    "<center>\n",
    "<img src=https://drive.google.com/uc?export=view&id=1CUsu4T_Q7N9Lc6s4F6lUNugkkdYG0A70>\n",
    "</center>\n",
    "\n",
    "Source: [visualgo.net](https://visualgo.net/en/sorting).  \n",
    "(Visualgo provides a lot of nice animations of many different algorithms that may help you visualize the algorithm better)\n",
    "\n",
    "## Using Queue in implementing Radix Sort\n",
    "If you notice from the animation, each of the \"buckets\" used in radix sort (numbered 0 to 9) are queue. It follows the principle of First-In-First-Out.\n",
    "\n",
    "```python\n",
    "Radix Sort \n",
    "Input: array\n",
    "Output: array\n",
    "\n",
    "class RadixSort:\n",
    "    1. Method __init__(self, array):\n",
    "        1.1 Store the array in items\n",
    "        1.2 Set up 10 bins using queue\n",
    "\n",
    "    2. Method max_digit(self):\n",
    "        2.1 temp = first element in items\n",
    "        2.2 for each element in items:\n",
    "            2.2.1 if element > temp:\n",
    "                2.2.2.1 temp = element\n",
    "        2.3 return temp\n",
    "    \n",
    "    # This method im not sure whether i should change the original one or not\n",
    "    3. Method convert_to_str(self,items):\n",
    "        3.1 max_digit = get maximum number of digit\n",
    "        3.2 temp = a copy of items\n",
    "        3.3 for index from 0 to len(temp):\n",
    "            3.3.1 append '0' to temp[index] until its length is max_digit\n",
    "        3.4 return temp\n",
    "\n",
    "    # Should the method change the original items?\n",
    "    4. Method sort(self): \n",
    "        4.1 same_length = get the items with '0' appended to it\n",
    "        4.2 max_digit = get maximum number of digit\n",
    "        4.3 for index from 1 to max_digit+1:\n",
    "            4.3.1 for each element in same_length:\n",
    "                4.3.1.1 index = i-th digit from `behind`\n",
    "                4.3.1.2 enqueue element to bin for digit index\n",
    "            4.3.2 Empty out same_length\n",
    "            4.3.3 for inner_index from 0 to 9:\n",
    "                4.3.3.1 while bin for digit inner_index is not empty:\n",
    "                        4.3.3.1.1 dequeue from the bin and append to same_length\n",
    "        4.4 answer = convert elements of same_length to int \n",
    "        4.5 return answer\n",
    "```"
   ]
  },
  {
   "cell_type": "markdown",
   "metadata": {},
   "source": [
    "# Queue with Double Stack\n",
    "Queue can also be implemented using 2 stacks."
   ]
  },
  {
   "cell_type": "markdown",
   "metadata": {},
   "source": [
    "#UML Diagrams\n",
    "\n",
    "We will also be briefly covering UML which is otherwise known as Unified Modelling Language.\n",
    "\n",
    "\n",
    "![alt text](https://external-content.duckduckgo.com/iu/?u=https%3A%2F%2Ftse1.mm.bing.net%2Fth%3Fid%3DOIP.03vi11zLoW34MZqTfHbaXQHaFO%26pid%3DApi&f=1://)"
   ]
  },
  {
   "cell_type": "markdown",
   "metadata": {},
   "source": [
    "#Extra relevant information\n",
    "\n",
    "In fact, perhaps unknowingly, you have had an encounter with stacks just a week ago. Call stacks in recursion! (Call stacks are an important concept in gneral programming too!)\n",
    "\n",
    "Let's look at this in action with the factorial fuction. factorial(3), or 3! = 3\\*2\\*1. Here's a recursive function to calculate the factorial of a number:\n"
   ]
  },
  {
   "cell_type": "code",
   "execution_count": 2,
   "metadata": {},
   "outputs": [
    {
     "name": "stdout",
     "output_type": "stream",
     "text": [
      "6\n"
     ]
    }
   ],
   "source": [
    "def factorial(x):\n",
    "  if x == 1:\n",
    "    return 1\n",
    "  else:\n",
    "    return x * factorial(x-1)\n",
    "\n",
    "print(factorial(3))"
   ]
  },
  {
   "cell_type": "markdown",
   "metadata": {},
   "source": [
    "Now when we call factorial(3). Let's step through this call line by line and see how the stack changes. "
   ]
  },
  {
   "cell_type": "code",
   "execution_count": null,
   "metadata": {},
   "outputs": [],
   "source": []
  }
 ],
 "metadata": {
  "kernelspec": {
   "display_name": "Python 3",
   "language": "python",
   "name": "python3"
  },
  "language_info": {
   "codemirror_mode": {
    "name": "ipython",
    "version": 3
   },
   "file_extension": ".py",
   "mimetype": "text/x-python",
   "name": "python",
   "nbconvert_exporter": "python",
   "pygments_lexer": "ipython3",
   "version": "3.7.4"
  }
 },
 "nbformat": 4,
 "nbformat_minor": 4
}
