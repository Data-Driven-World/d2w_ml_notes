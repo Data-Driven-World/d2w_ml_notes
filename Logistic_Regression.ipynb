{
 "cells": [
  {
   "cell_type": "markdown",
   "metadata": {},
   "source": [
    "# Logistic Regression for Classification\n",
    "\n",
    "## Introduction\n",
    "\n",
    "The problem of classification deals with *categorical* data. In this problem, we wish to identify a set of data whether they belong to a particular class of category. For example, a given text message from an email, we would like to classify if it is a spam or not a spam. Another example would be given some measurement of cancer cells we wish to classify if it is benign or malignant. In this section we will learn logistic regression to solve this classification problem."
   ]
  },
  {
   "cell_type": "markdown",
   "metadata": {},
   "source": [
    "## Hypothesis Function\n",
    "\n",
    "Let's take an example of breast cancer classification problem. Let's say depending on the cell size, an expert can identify if the cell is benign or malignant. We can plot something like the following figure.\n",
    "\n",
    "![](https://www.dropbox.com/s/drkggfjxttwjjfu/cancer_cell_plot.png?raw=1)\n",
    "\n",
    "In the y-axis, value of 1 means it is a malignant cell while value of 0 means it is benign. The x-axis can be considered as a normalized size of the cell with mean 0 and standard deviation of 1 (recall z-normalization).\n",
    "\n",
    "If we can model this plot as a function $p(x)$, we can set the following criteria to classify the cells. For example, we will predict it is malignant if $p(x) \\geq 0.5$, otherwise, it is benign. This means we need a function where we can model the data in a step wise manners and fulfills the following:\n",
    "\n",
    "$$0 \\leq p(x) \\leq 1$$\n",
    "\n",
    "where $p(x)$ is the probability that a cell with feature $x$ is a malignant cell. "
   ]
  },
  {
   "cell_type": "markdown",
   "metadata": {},
   "source": [
    "One of the function that we can use that have this step-wize shape and the above properties is a logistic function. A logistic function can be written as.\n",
    "\n",
    "$$y = \\frac{1}{1 + e^{-x}}$$"
   ]
  },
  {
   "cell_type": "markdown",
   "metadata": {},
   "source": [
    "The plot of a logistic function looks like the following."
   ]
  },
  {
   "cell_type": "code",
   "execution_count": 5,
   "metadata": {},
   "outputs": [
    {
     "data": {
      "text/plain": [
       "[<matplotlib.lines.Line2D at 0x7fe8f86ef690>]"
      ]
     },
     "execution_count": 5,
     "metadata": {},
     "output_type": "execute_result"
    },
    {
     "data": {
      "image/png": "[encoded data removed]",
      "text/plain": [
       "<Figure size 432x288 with 1 Axes>"
      ]
     },
     "metadata": {
      "needs_background": "light"
     },
     "output_type": "display_data"
    }
   ],
   "source": [
    "import numpy as np\n",
    "import matplotlib.pyplot as plt\n",
    "\n",
    "x = np.array(range(-10,11))\n",
    "y = 1/(1+np.exp(-x))\n",
    "plt.plot(x,y)"
   ]
  },
  {
   "cell_type": "markdown",
   "metadata": {},
   "source": [
    "We can write our hypothesis as follows.\n",
    "\n",
    "$$p(x) = \\frac{1}{1 + e^{-\\beta^T x}}$$\n"
   ]
  },
  {
   "cell_type": "markdown",
   "metadata": {},
   "source": [
    "Note that in this notes we tend to omit the *hat* symbol to indicate it is the estimated parameters as in the previous notes. We will just indicate the estimated parameters as $\\beta$ instead of $\\hat{\\beta}$. In the above equation, $\\beta^Tx$ can be written as\n",
    "\n",
    "$$\\beta_0 x_0 + \\beta_1 x_1$$\n",
    "\n",
    "when $x_0 = 1$, the above equation is simply the straight line equation of linear regression.\n",
    "\n",
    "$$\\beta_0 + \\beta_1 x_1$$\n",
    "\n",
    "This is the case when we only have one feature $x_1$. If we have more than one feature, we should write $\\beta^Tx$ as follows.\n",
    "\n",
    "$$\\beta_0 x_0 + \\beta_1 x_1 + \\ldots + \\beta_n x_n$$\n",
    "\n",
    "The above relationship shows that we can map the value of linear regression into a new function with a value from 0 to 1. This new function $p(x)$ can be considered as *an estimated probability* that $y = 1$ on input $x$. For example, if $p(x) = 0.7$ this means that 70% chance it is malignant. We can then use the following boundary conditions:\n",
    "- y = 1 (malignant) if $p(x) \\geq 0.5$\n",
    "- y = 0 (benign) if $p(x) < 0.5$"
   ]
  },
  {
   "cell_type": "markdown",
   "metadata": {},
   "source": [
    "The above conditions also means that we can classify $y=1$ when $\\beta^T x \\geq 0$ and $y = 0$ when $\\beta^T x < 0$. We can draw these boundary conditions.\n",
    "\n",
    "![](https://www.dropbox.com/s/ncflm4853mdy8es/decision_boundary.png?raw=1)"
   ]
  },
  {
   "cell_type": "markdown",
   "metadata": {},
   "source": [
    "In the figure above, we indicated the predicted label $y$ with the orange colour. We see that when $p(x)\\geq 0.5$, the data is marked as $y=1$ (orange). On the other hand, when $p(x) \\leq 0.5$, the data is marked as $y=0$ (orange). The thick black line shows the decision boundary for this particular example. \n",
    "\n",
    "How do we get this boundary decision. Once we found the estimated values for $\\beta$, we can find the value of $x$ which gives $\\beta^Tx = 0$. You will work on computing the parameters $\\beta$ in the problem set. For now, let's assume that you manage to find the value of $\\beta_0 = -0.56$ and $\\beta_1 = 1.94$. The equation $\\beta^T x = 0 $ can be written as follows.\n",
    "\n",
    "$$\\beta_0 + \\beta_1 x = 0$$\n",
    "\n",
    "We can then substitute the values for $\\beta$ into the equation.\n",
    "\n",
    "$$-0.56 + 1.94 x = 0$$\n",
    "$$x = 0.29 \\approx 0.3$$\n",
    "\n",
    "From the figure above, this fits where the thick line is, which is at around 0.3."
   ]
  },
  {
   "cell_type": "markdown",
   "metadata": {},
   "source": [
    "## Cost Function\n",
    "\n",
    "Similar to linear regression, our purpose here is to find the parameters $\\beta$. To do so, we will have to minimize some cost function using optimization algorithm. \n",
    "\n",
    "For logistic regression, we will choose the following cost function.\n",
    "\n",
    "$$J(\\beta) = \\frac{1}{m} \\Sigma_{i=1}^m \\left\\{ \\begin{matrix}\n",
    "-\\log(p(x)) & \\text{ if } y = 1\\\\\n",
    "-\\log(1 - p(x)) & \\text{ if } y = 0\n",
    "\\end{matrix}\\right.$$"
   ]
  },
  {
   "cell_type": "markdown",
   "metadata": {},
   "source": [
    "We can try to understand the term inside the bracket intuitively. Let's see the case when $y=1$. In this case, the cost term is given by:\n",
    "\n",
    "$$-\\log(p(x))$$\n",
    "\n",
    "The cost is 0 if $y = 1$ and $p(x) = 1$ because $-\\log(z)$ is 0 when $z=1$. Moreover, as $p(x) \\rightarrow 0$, the cost will reach $\\infty$. [See plot by wolfram alpha](https://www.wolframalpha.com/input/?i=-log%28x%29+from+0+to+1)."
   ]
  },
  {
   "cell_type": "markdown",
   "metadata": {},
   "source": [
    "On the other hand, when $ y = 0$, the cost term is given by:\n",
    "\n",
    "$$-\\log(1-p(x))$$\n",
    "\n",
    "In this case, the cost is 0 when $p(x) = 0$ but it reaches $\\infty$ when $p(x) \\rightarrow 1$. [See plot by wolfram alpha](https://www.wolframalpha.com/input/?i=-log%281-x%29+from+0+to+1). "
   ]
  },
  {
   "cell_type": "markdown",
   "metadata": {},
   "source": [
    "We can write the overall cost function for all the data points from $i=1$ to $m$ as follows.\n",
    "\n",
    "$$J(\\beta) = -\\frac{1}{m}\\left[\\Sigma_{i=1}^m y^i \\log(p(x^i)) + (1 - y^i) \\log(1 - p(x^i))\\right]$$"
   ]
  },
  {
   "cell_type": "markdown",
   "metadata": {},
   "source": [
    "Notice that when $y^i = 1$, the function reduces to\n",
    "\n",
    "$$J(\\beta) = -\\frac{1}{m}\\left[\\Sigma_{i=1}^m  \\log(p(x^i)) \\right]$$"
   ]
  },
  {
   "cell_type": "markdown",
   "metadata": {},
   "source": [
    "and when $y^i = 0$, the function reduces to\n",
    "\n",
    "$$J(\\beta) = -\\frac{1}{m}\\left[\\Sigma_{i=1}^m  \\log(1 - p(x^i))\\right]$$"
   ]
  },
  {
   "cell_type": "markdown",
   "metadata": {},
   "source": [
    "## Gradient Descent\n",
    "\n",
    "We can find the parameters $\\beta$ again by using the gradient descern algorithm to perform:\n",
    "\n",
    "$$\\begin{matrix}\n",
    "min & J(\\beta)\\\\\n",
    "\\beta & \\end{matrix}$$"
   ]
  },
  {
   "cell_type": "markdown",
   "metadata": {},
   "source": [
    "The update functions for the parameters are given by\n",
    "\n",
    "$$\\beta_j = \\beta_j - \\alpha \\frac{\\partial}{\\partial \\beta_j} J(\\beta)$$\n",
    "\n",
    "The derivative of the cost function is given by\n",
    "\n",
    "$$\\frac{\\partial}{\\partial \\beta_j}J(\\beta) = \\frac{1}{m}\\Sigma_{i=1}^m \\left(p(x)-y^i  \\right)x_j^i$$\n",
    "\n",
    "See the appendix for the derivation. We can substitute this in to get the following update function.\n",
    "\n",
    "$$\\beta_j = \\beta_j - \\alpha \\frac{1}{m}\\Sigma_{i=1}^m \\left(p(x)-y^i  \\right)x_j^i$$\n"
   ]
  },
  {
   "cell_type": "markdown",
   "metadata": {},
   "source": [
    "# Appendix\n",
    "\n",
    "## Derivation of Logistic Regression Derivative \n",
    "\n"
   ]
  },
  {
   "cell_type": "markdown",
   "metadata": {},
   "source": [
    "We want to find $\\frac{\\partial}{\\partial \\beta_j}J(\\beta)$, where\n",
    "\n",
    "$$J(\\beta) = -\\frac{1}{m}\\left[\\Sigma_{i=1}^m y^i \\log(p(x^i)) + (1 - y^i) \\log(1 - p(x^i))\\right]$$"
   ]
  },
  {
   "cell_type": "markdown",
   "metadata": {},
   "source": [
    "To simplify our derivation, we will consider each case when $y=1$ and when $y=0$. When $y=1$, the cost function is given by\n",
    "\n",
    "$$J(\\beta) = -\\frac{1}{m}\\left[\\Sigma_{i=1}^m  \\log(p(x^i)) \\right]$$"
   ]
  },
  {
   "cell_type": "markdown",
   "metadata": {},
   "source": [
    "Derivating this with respect to $\\theta$ is\n",
    "\n",
    "$$\\frac{\\partial}{\\partial \\beta_j}J(\\beta) = -\\frac{1}{m}\\Sigma \\frac{1}{p(x)}\\frac{\\partial}{\\partial \\beta}p(x)$$"
   ]
  },
  {
   "cell_type": "markdown",
   "metadata": {},
   "source": [
    "Recall that the expression for the hypothesis is\n",
    "\n",
    "$$p(x) = \\frac{1}{1 + e^{-\\beta^T x}}$$"
   ]
  },
  {
   "cell_type": "markdown",
   "metadata": {},
   "source": [
    "The derivative of this is given by\n",
    "\n",
    "$$\\frac{\\partial}{\\partial \\beta_j} p(x) = - \\frac{1}{(1 + e^{-\\beta^T x})^2} \\times -x_j \\times e^{-\\beta^T x}$$\n",
    "\n",
    "or\n",
    "\n",
    "$$\\frac{\\partial}{\\partial \\beta_j} p(x) =  \\frac{x_j e^{-\\beta^T x}}{(1 + e^{-\\beta^T x})^2} $$"
   ]
  },
  {
   "cell_type": "markdown",
   "metadata": {},
   "source": [
    "We can then now substitute this back \n",
    "\n",
    "$$\\frac{\\partial}{\\partial \\beta_j}J(\\beta) = -\\frac{1}{m}\\Sigma (1 + e^{-\\beta^T x}) \\frac{x_j e^{-\\beta^T x}}{(1 + e^{-\\beta^T x})^2}$$\n",
    "\n",
    "$$\\frac{\\partial}{\\partial \\beta_j}J(\\beta) = -\\frac{1}{m}\\Sigma  \\frac{x_j e^{-\\beta^T x}}{(1 + e^{-\\beta^T x})}$$"
   ]
  },
  {
   "cell_type": "markdown",
   "metadata": {},
   "source": [
    "This can be written as\n",
    "\n",
    "$$\\frac{\\partial}{\\partial \\beta_j}J(\\beta) = -\\frac{1}{m}\\Sigma  p(x) x_j e^{-\\beta^T x}$$\n",
    "This is for the case of $y = 1$."
   ]
  },
  {
   "cell_type": "markdown",
   "metadata": {},
   "source": [
    "Now let's do the same for $y = 0$, the cost function is given by\n",
    "\n",
    "$$J(\\beta) = -\\frac{1}{m}\\left[\\Sigma_{i=1}^m  \\log(1 - p(x^i))\\right]$$"
   ]
  },
  {
   "cell_type": "markdown",
   "metadata": {},
   "source": [
    "Derivating this with respect to $\\theta$ gives\n",
    "\n",
    "$$\\frac{\\partial}{\\partial \\beta_j}J(\\beta) = \\frac{1}{m}\\Sigma \\frac{1}{1 - p(x)}\\frac{\\partial}{\\partial \\beta}p(x)$$\n"
   ]
  },
  {
   "cell_type": "markdown",
   "metadata": {},
   "source": [
    "Substituting expression for the hypothesis function and its derivative  gives us\n",
    "\n",
    "$$\\frac{\\partial}{\\partial \\beta_j}J(\\beta) = \\frac{1}{m}\\Sigma \\frac{1}{1 - \\frac{1}{1 + e^{-\\beta^T x}}}  \\frac{x_j e^{-\\beta^T x}}{(1 + e^{-\\beta^T x})^2} $$\n"
   ]
  },
  {
   "cell_type": "markdown",
   "metadata": {},
   "source": [
    "$$\\frac{\\partial}{\\partial \\beta_j}J(\\beta) = \\frac{1}{m}\\Sigma \\frac{1 + e^{-\\beta^T x}}{e^{-\\beta^T x}}  \\frac{x_j e^{-\\beta^T x}}{(1 + e^{-\\beta^T x})^2} $$"
   ]
  },
  {
   "cell_type": "markdown",
   "metadata": {},
   "source": [
    "$$\\frac{\\partial}{\\partial \\beta_j}J(\\beta) = \\frac{1}{m}\\Sigma \\frac{x_j}{(1+e^{\\beta^T x})} $$\n",
    "\n",
    "$$\\frac{\\partial}{\\partial \\beta_j}J(\\beta) = \\frac{1}{m}\\Sigma p(x) x_j$$\n",
    "This is for $y = 0$."
   ]
  },
  {
   "cell_type": "markdown",
   "metadata": {},
   "source": [
    "Combining for both cases $y=0$ and $y=1$, we have\n",
    "\n",
    "$$\\frac{\\partial}{\\partial \\beta_j}J(\\beta) = -\\frac{1}{m}\\Sigma_{i=1}^m y^i p(x) x_j e^{-\\beta^T x} + (y^i - 1)  p(x) x_j^i$$\n",
    "\n",
    "\n",
    "$$\\frac{\\partial}{\\partial \\beta_j}J(\\beta) = -\\frac{1}{m}\\Sigma_{i=1}^m y^i p(x) x_j e^{-\\beta^T x} + y^i   p(x) x_j - p(x) x_j^i$$"
   ]
  },
  {
   "cell_type": "markdown",
   "metadata": {},
   "source": [
    "$$\\frac{\\partial}{\\partial \\beta_j}J(\\beta) = -\\frac{1}{m}\\Sigma_{i=1}^m \\left(y^i p(x)(1 + e^{-\\beta^T x})  - p(x) \\right)x_j^i$$\n",
    "$$\\frac{\\partial}{\\partial \\beta_j}J(\\beta) = -\\frac{1}{m}\\Sigma_{i=1}^m \\left(y^i   - p(x) \\right)x_j^i$$\n",
    "$$\\frac{\\partial}{\\partial \\beta_j}J(\\beta) = \\frac{1}{m}\\Sigma_{i=1}^m \\left(p(x)-y^i  \\right)x_j^i$$"
   ]
  },
  {
   "cell_type": "code",
   "execution_count": null,
   "metadata": {},
   "outputs": [],
   "source": []
  }
 ],
 "metadata": {
  "kernelspec": {
   "display_name": "Python 3",
   "language": "python",
   "name": "python3"
  },
  "language_info": {
   "codemirror_mode": {
    "name": "ipython",
    "version": 3
   },
   "file_extension": ".py",
   "mimetype": "text/x-python",
   "name": "python",
   "nbconvert_exporter": "python",
   "pygments_lexer": "ipython3",
   "version": "3.8.5"
  }
 },
 "nbformat": 4,
 "nbformat_minor": 4
}
