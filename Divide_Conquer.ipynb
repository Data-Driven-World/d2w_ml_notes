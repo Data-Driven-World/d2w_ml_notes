{
 "cells": [
  {
   "cell_type": "markdown",
   "metadata": {},
   "source": [
    "# Divide and Conquer\n",
    "\n",
    "Many computing problems are recursive in structure. With the word *recursive* we mean that to solve a given problem, they *call themselves* one or more times to solve a closely related problems. These algorithms in a way follow a *divide-and-conquer* approach.\n",
    "\n",
    "Divide and conquer approach break the problem into several sub problems that are similar to the original problem but smaller in size. The algorithm then solve this smaller problems and then combine the solutions to create the solution to the original problem. The divide-and-conquer paradigm involves three steps at each level of the recursion:\n",
    "1. *Divide* the problem into a number of smaller problems.\n",
    "1. *Conquer* the smaller problems by solving them recursively and when the problem is small enough, hopefully, it can be solved trivially.\n",
    "1. *Combine* the solutions of the smaller problems into the solution for the original problem."
   ]
  },
  {
   "cell_type": "markdown",
   "metadata": {},
   "source": [
    "## Summing The Elements of an Array\n",
    "\n",
    "We will start giving example of divide-and-conquer approach by solving the following problem: summing a list of numbers in an array. Given a list of array, we can sum them by iterating over each element and sum each element to get the final solution. This *iterative* solution looks as follows."
   ]
  },
  {
   "cell_type": "code",
   "execution_count": 1,
   "metadata": {},
   "outputs": [
    {
     "name": "stdout",
     "output_type": "stream",
     "text": [
      "17\n"
     ]
    }
   ],
   "source": [
    "def sum(array):\n",
    "    result = 0\n",
    "    for number in array:\n",
    "        result += number\n",
    "    return result\n",
    "\n",
    "input_array = [4, 3, 2, 1, 7]\n",
    "print(sum(input_array))"
   ]
  },
  {
   "cell_type": "markdown",
   "metadata": {},
   "source": [
    "Another way of solving this problem can be done using a *divide-and-conquer* approach. In this approach we divide the input array into two parts. The first part consists of a single number while the second part consists of the rest of the numbers. For example, using the input in the above example, we have \n",
    "\n",
    "```\n",
    "[4, 3, 2, 1, 7]\n",
    "```\n",
    "\n",
    "The above input is now divided into two parts:\n",
    "\n",
    "```\n",
    "4 | [3, 2, 1, 7]\n",
    "```\n",
    "\n",
    "This is the *divide* step. In the *conquer* step, we recursively solve the second part using the same method. This means that we divide the second part into two parts as follows.\n",
    "\n",
    "```\n",
    "[3, 2, 1, 7]\n",
    "```\n",
    "becomes\n",
    "\n",
    "```\n",
    "3 | [2, 1, 7]\n",
    "```\n",
    "And this continues recursively\n",
    "\n",
    "```\n",
    "[2, 1, 7]\n",
    "```\n",
    "becomes\n",
    "\n",
    "```\n",
    "2 | [1, 7]\n",
    "```\n",
    "\n",
    "and\n",
    "\n",
    "```\n",
    "[1, 7]\n",
    "```\n",
    "becomes\n",
    "\n",
    "```\n",
    "1 | [7]\n",
    "```\n",
    "\n",
    "Now the second part consists of only a single number, i.e. 7. Since the problem is small enough, the solution to the sum problem is simply this number, which is 7. This means that the sum of an array with a single number is just that number. So we can now proceed to the *combine* step. We will combine the result by adding the number on the left with the sum of the array on the right. \n",
    "\n",
    "```\n",
    "1 | [7] = 1 + 7 = 8\n",
    "```\n",
    "and now we can move up\n",
    "```\n",
    "2 | [1, 7] = 2 + 8 = 10\n",
    "```\n",
    "similarly, we have these two summations\n",
    "```\n",
    "3 | [2, 1, 7] = 3 + 10 = 13\n",
    "\n",
    "4 | [3, 2, 1, 7] = 4 + 13 = 17\n",
    "```\n"
   ]
  },
  {
   "cell_type": "markdown",
   "metadata": {},
   "source": [
    "## Computation Time\n",
    "\n",
    "As you can guess from the *iterative* solution, this problem takes $O(n)$ time. This means that as the number of input increases, the computation time increases linearly. How do we come about this computation time for recursive solution? One way to do this is to draw the *recursion tree*. \n",
    "\n",
    "In a recursion tree, each node represents the cost of a single subproblem somewhere in the set of recursive function invocations. We than have to do two sums. The first sum is to sum all the cost on each level of the tree to obtain a set of cost-per-level. The second sum is to sum all cost-per-level over all levels to obtain the total cost. \n",
    "\n",
    "To illustrate that, let's take a look at the example above on summing the elements in an array. Looking at the pseudocode, we see that the program will execute either step 1 or step 2 and not both. We can then make the following observation:\n",
    "* if it is the base case, the computation time is $O(1)$ because it takes constant time to check the case and constant time to return the element of an array.\n",
    "* if it is the recursive case, the computation time is $T(n) = O(1) + T(n-1)$. The constant time comes from the addition operation which is the *combine* step. On the other hand, this computation time contains $T(n-1)$ due to the recursive call for $n-1$ elements array. \n",
    "\n",
    "The recursion tree can be drawn as follows.\n",
    "\n",
    "![](https://www.dropbox.com/s/kfvkbj3pcw28xp1/sum_recursiontree.png?raw=1)\n",
    "\n",
    "The first figure on the left shows that the computation time for $n$ elements is a constant $c$ plus $T(n-1)$. The second figure in the middle shows the tree when we expland $T(n-1)$. That recursive call is when the input array is $n-1$ elements. The computation time when $n-1$ can be explanded as another $c$ plus $T(n-2)$. We can continue doing this until we are left only with one element, which is shown on the figure on the right with $T(1)$. The tree only has one child on each node and each level has the same cost which shown by the arrown pointing to the right. We can show that there are $n$ levels in the three for $n$ elements of input in the original call. \n",
    "\n",
    "The cost for each level is a constant $c$ and we have $n$ levels, so the total cost is $cn$, and therefore we can say that the computation time for this recursion is $T(n) = O(n)$."
   ]
  },
  {
   "cell_type": "code",
   "execution_count": null,
   "metadata": {},
   "outputs": [],
   "source": []
  }
 ],
 "metadata": {
  "kernelspec": {
   "display_name": "Python 3",
   "language": "python",
   "name": "python3"
  },
  "language_info": {
   "codemirror_mode": {
    "name": "ipython",
    "version": 3
   },
   "file_extension": ".py",
   "mimetype": "text/x-python",
   "name": "python",
   "nbconvert_exporter": "python",
   "pygments_lexer": "ipython3",
   "version": "3.7.4"
  }
 },
 "nbformat": 4,
 "nbformat_minor": 4
}
