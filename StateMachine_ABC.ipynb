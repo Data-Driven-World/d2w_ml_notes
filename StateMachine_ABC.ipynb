{
 "cells": [
  {
   "cell_type": "markdown",
   "metadata": {},
   "source": [
    "# Abstract State Machine Class\n",
    "\n",
    "## Designing StateMachine Class\n",
    "\n",
    "As mentioned previously, all state machine have some common characteristics. This motivates us to design an Abstract Base Class for State Machine. In designing an Abstract Base Class for state machine we try to identify what is the thing that all state machines have. We know that all state machine has a **state**. This shall be one of our attributes. We also try to figure out what all state machines *can do* in common. What are the common operations? For our design, we will create three methods that all state machines can do:\n",
    "- `start()` which is to start the state machine by applying the initial state to the current state of the machine. Before calling the `start()` method, a state machine would have no state and cannot be run.\n",
    "- `step(inp)` which takes in the current input of the machine and moves the machine to the next state in the next time step. This method returns the output of the machine at that time step.\n",
    "- `transduce(list_inp)` which takes in the list of all the inputs. This method simply calls the `start()` method and run `step()` for all the input in the list of the input argument.\n",
    "\n",
    "Our `StateMachine` class is an Abstract Base Class. This means that some of the methods of this class are waiting for implementation in the child class. This `StateMachine` class itself should not be instantiated. Any state machine instantiation should be done from one of the child classes of `StateMachine`. Why is this so?\n",
    "\n",
    "The reason is that every state machine has different **initial state** and different **output function** as well as **next state function**. If two state machines have the same initial state as well as the same output and next state functions, it means that the two machines are equivalent. Therefore, `StateMachine` class cannot provide the detail of what is the initial state of a state machine nor can it provide the functions for the output and the next state of a state machine. These must be defined in the child class definition. The abstract `StateMachine` class only contains those implementations that is found common for all state machines. In defining our Abstract Base Class, we can specify that any implementation of its child class must define the implementation of certain methods. This is done in Python using `@abstractmethod` decorator. In our case, we will force child classses of `StateMachine` to define a method called `get_next_values(state, inp)` where these sub classes can define the implementation of the output and next state functions. This means that this method should return two things, the output and the next state given the current state and the current input. \n",
    "\n",
    "Let's draw the UML diagram of the `StateMachine` class. \n",
    "\n",
    "<img src=\"https://www.dropbox.com/s/cdtyl69s2jrabrd/SM_class.png?raw=1\" alt=\"drawing\" width=\"400\"/>"
   ]
  },
  {
   "cell_type": "markdown",
   "metadata": {},
   "source": [
    "In this class diagram, we identify that `StateMachine` is an abstract class which requires another sub class to implement some of its definition. We also specifies using `<<abstract>>` notation that it is the `get_next_values(state, inp)` that the sub class has to define. Note also that the `start_state` must be initialized by the sub-class also since each state machine may have different initial state. \n",
    "\n",
    "Recall that `get_next_values(state, inp)` in the child class provides the implementation of both the output and the next state functions. These functions are needed by the `step(inp)` method which is inherited from `StateMachine` class to determine the output and change the current state to the next state. Let's see how we can implement this in Python."
   ]
  },
  {
   "cell_type": "markdown",
   "metadata": {},
   "source": [
    "## Python Implementation of Abstract Base Class\n",
    "\n",
    "Python has a module called `abc` which can be used to implement an Abstract Base Class. Any Abstract Base Clas should inherit from `ABC` class inside the `abc` module (yep, the class name uses capital letters while module name uses small letters in Python). "
   ]
  },
  {
   "cell_type": "code",
   "execution_count": 7,
   "metadata": {},
   "outputs": [],
   "source": [
    "from abc import ABC\n",
    "\n",
    "class StateMachine(ABC):\n",
    "    pass"
   ]
  },
  {
   "cell_type": "markdown",
   "metadata": {},
   "source": [
    "`abc` module provides a decorator `@abstractmethod` which we can use to enforce that some method has to be implemented in the sub class."
   ]
  },
  {
   "cell_type": "code",
   "execution_count": 4,
   "metadata": {},
   "outputs": [],
   "source": [
    "from abc import ABC, abstractmethod\n",
    "\n",
    "class StateMachine(ABC):\n",
    "    \n",
    "    def start(self):\n",
    "        self.state = self.start_state\n",
    "\n",
    "    def step(self, inp):\n",
    "        ns, o = self.get_next_values(self.state, inp)\n",
    "        self.state = ns\n",
    "        return o\n",
    "\n",
    "    @abstractmethod\n",
    "    def get_next_values(self, state, inp):\n",
    "        pass"
   ]
  },
  {
   "cell_type": "code",
   "execution_count": 6,
   "metadata": {},
   "outputs": [
    {
     "ename": "TypeError",
     "evalue": "Can't instantiate abstract class StateMachine with abstract methods get_next_values",
     "output_type": "error",
     "traceback": [
      "\u001b[0;31m---------------------------------------------------------------------------\u001b[0m",
      "\u001b[0;31mTypeError\u001b[0m                                 Traceback (most recent call last)",
      "\u001b[0;32m<ipython-input-6-0cc122f17f6c>\u001b[0m in \u001b[0;36m<module>\u001b[0;34m\u001b[0m\n\u001b[1;32m      2\u001b[0m \u001b[0;31m# this will generate error\u001b[0m\u001b[0;34m\u001b[0m\u001b[0;34m\u001b[0m\u001b[0;34m\u001b[0m\u001b[0m\n\u001b[1;32m      3\u001b[0m \u001b[0;34m\u001b[0m\u001b[0m\n\u001b[0;32m----> 4\u001b[0;31m \u001b[0ms\u001b[0m \u001b[0;34m=\u001b[0m \u001b[0mStateMachine\u001b[0m\u001b[0;34m(\u001b[0m\u001b[0;34m)\u001b[0m\u001b[0;34m\u001b[0m\u001b[0;34m\u001b[0m\u001b[0m\n\u001b[0m",
      "\u001b[0;31mTypeError\u001b[0m: Can't instantiate abstract class StateMachine with abstract methods get_next_values"
     ]
    }
   ],
   "source": [
    "# cannot instantiate StateMachine class\n",
    "# this will generate error\n",
    "\n",
    "s = StateMachine()"
   ]
  },
  {
   "cell_type": "markdown",
   "metadata": {},
   "source": [
    "If you try to instantiate an abstract class with some abstract method, Python will complain and throws an exception. \n",
    "\n",
    "In the above implementation, we also define `start()` method as simply applying the `start_state` as the current `state` value of the machine. Moreover, the `step(inp)` calls `get_next_values(state, inp)`, which should be implemented in the child class, to get the next state and the output given the current state and the current input. The next state is then applied to the `state` and the `step()` method returns the output. \n",
    "\n",
    "Thus, `step()` is designed to update the state of the state machine. Thus, when `get_next_values()` is implemented, it must be implemented as a pure function."
   ]
  },
  {
   "cell_type": "markdown",
   "metadata": {},
   "source": [
    "## Creating a LightBoxSM Class\n",
    "\n",
    "In our previous notes, we discussed the light box state machine. We simulate it using Object Oriented Programming by defining a class. But now, we have an abstract class from State Machine. How can we create this same light box state machine without re-writing the codes that is already contained in the class `StateMachine`? First, let's recall how we wrote the `LightBox` class without inheriting `StateMachine` class."
   ]
  },
  {
   "cell_type": "code",
   "execution_count": 16,
   "metadata": {},
   "outputs": [],
   "source": [
    "class LightBox:\n",
    "    def __init__(self):\n",
    "        self.state = \"off\"\n",
    "        \n",
    "    def set_output(self, inp):\n",
    "        if inp == 1 and self.state == \"off\":\n",
    "            self.state = \"on\"\n",
    "            return self.state\n",
    "        if inp == 1 and self.state == \"on\":\n",
    "            self.state = \"off\"\n",
    "            return self.state\n",
    "        return self.state\n",
    "    \n",
    "    def transduce(self, list_inp):\n",
    "        for inp in list_inp:\n",
    "            print(self.set_output(inp))\n",
    "            "
   ]
  },
  {
   "cell_type": "code",
   "execution_count": 17,
   "metadata": {},
   "outputs": [
    {
     "name": "stdout",
     "output_type": "stream",
     "text": [
      "off\n",
      "off\n",
      "on\n",
      "on\n",
      "on\n",
      "on\n",
      "on\n",
      "off\n",
      "on\n",
      "off\n",
      "on\n",
      "on\n",
      "off\n"
     ]
    }
   ],
   "source": [
    "lb1 = LightBox()\n",
    "lb1.transduce([0, 0, 1, 0, 0, 0, 0, 1, 1, 1, 1, 0, 1])"
   ]
  },
  {
   "cell_type": "markdown",
   "metadata": {},
   "source": [
    "Notice a few things. The class above has an attribute called `state` which store the state of the state machine. The `set_output()` method is similar to `step(inp)` and `get_next_values(state, inp)` methods since they provide the output and affect the state of the machine.\n",
    "\n",
    "In using the `StateMachine` class, we will use inheritance and only define two things:\n",
    "- `start_state` which has to be initialized to the machine initial state value, and\n",
    "- `get_next_values(state, inp)` method which provides the output and next state functions."
   ]
  },
  {
   "cell_type": "code",
   "execution_count": 13,
   "metadata": {},
   "outputs": [],
   "source": [
    "class LightBoxSM(StateMachine):\n",
    "    \n",
    "    def __init__(self):\n",
    "        self.start_state = \"off\"\n",
    "        \n",
    "    def get_next_values(self, state, inp):\n",
    "        \n",
    "        if state == \"off\":\n",
    "            if inp == 1:\n",
    "                next_state = \"on\"\n",
    "            else:\n",
    "                next_state = \"off\"\n",
    "        elif state == \"on\":\n",
    "            if inp == 1:\n",
    "                next_state = \"off\"\n",
    "            else:\n",
    "                next_state = \"on\"\n",
    "        output = next_state\n",
    "        return next_state, output"
   ]
  },
  {
   "cell_type": "code",
   "execution_count": 15,
   "metadata": {},
   "outputs": [
    {
     "name": "stdout",
     "output_type": "stream",
     "text": [
      "off\n",
      "off\n",
      "on\n",
      "on\n",
      "on\n",
      "on\n",
      "on\n",
      "off\n",
      "on\n",
      "off\n",
      "on\n",
      "on\n",
      "off\n"
     ]
    }
   ],
   "source": [
    "lb2 = LightBoxSM()\n",
    "lb2.start()\n",
    "print(lb2.step(0))\n",
    "print(lb2.step(0))\n",
    "print(lb2.step(1))\n",
    "print(lb2.step(0))\n",
    "print(lb2.step(0))\n",
    "print(lb2.step(0))\n",
    "print(lb2.step(0))\n",
    "print(lb2.step(1))\n",
    "print(lb2.step(1))\n",
    "print(lb2.step(1))\n",
    "print(lb2.step(1))\n",
    "print(lb2.step(0))\n",
    "print(lb2.step(1))\n"
   ]
  },
  {
   "cell_type": "markdown",
   "metadata": {},
   "source": [
    "Notice that we have produced the same output using a different way of writing the light box state machine. It would be convenient to have something like the `transduce()` method where we can just put in a list of input to the machines and produce the output. You will work this method in your problem set."
   ]
  },
  {
   "cell_type": "markdown",
   "metadata": {},
   "source": [
    "## Designing a State Machine\n",
    "\n",
    "In this section we will discuss how we can design a state machine and write its implementation in Python using some of the code we have provided such as in our `StateMachine` class. \n",
    "\n"
   ]
  },
  {
   "cell_type": "markdown",
   "metadata": {},
   "source": [
    "### Is this a state machine?\n",
    "\n",
    "The first step is to ask whether our computation is a state machine. To determine the answer for this question, we ask a few question?\n",
    "- is the output a function of the current input only or it a function of its history or state as well?\n",
    "- does the computation requires me to remember something else besides knowing the input arguments or can I determine the output solely from the input arguments?\n",
    "\n",
    "If your computation output is a function of not only the input arguments but also its history or state of the machine, then it is a state machine.\n",
    "\n",
    "### What is the state of the machine?\n",
    "\n",
    "Once we know that it is a state machine, we should ask what the state of the machine is. To find out what the state is, we can ask the following questions:\n",
    "- what is the thing that I need to remember?\n",
    "- what is the thing I need to know besides my input arguments in order to determine the output?\n",
    "\n",
    "### Is the state finite?\n",
    "\n",
    "Once we know what the state is, we can determine whether the state is finite or not. Later on we will show that this answer may affect how we determine its output and next state function.\n",
    "\n",
    "### Determine the output and next state functions\n",
    "\n",
    "If there is finite state, this step involves drawing the state transition diagram based on the problem specification. On the other hand, if the state is not finite, we can use another technique like time step table to try to figure out what is the output and next state function.\n",
    "\n",
    "### Implementation\n",
    "\n",
    "Once all those steps done, we can implement them in Python. We do this by doing the following:\n",
    "1. Create a new class inheriting from `StateMachine` class\n",
    "1. Initialize the `start_state`\n",
    "1. Define `get_next_values()`\n",
    "\n",
    "The implementation of `get_next_values()` follows closely the previous steps. If one has a state transition diagram, every arc and arrow in the diagram is one `if` condition.\n",
    "\n",
    "## Using the Steps for LightBoxSM\n",
    "\n",
    "Let's use the steps above and see how we come up with the implementation of `LightBoxSM`. First, we ask whether it is a state machine. Since the output not only depends on whether the button is pressed or not (input is 1 or 0) but also on how many time the button has been pressed, we are dealing with a state machine. We can see this since it is not enough for us to determine whether the light is on or off simply from knowing whether the button is pressed or not. We need to know the \"other\" information.\n",
    "\n",
    "Second, we ask what is the state by asking what is the thing that we need to remember. In this case, we need to remember whether currently the light is on or off when the button is pressed. So the status of the light, which is either \"on\" or \"off\", is the state of the machine. \n",
    "\n",
    "Third, we ask is the state finite? In this case the answer is yes. The reason is that we only identify two states, i.e. \"on\" or \"off\". \n",
    "\n",
    "Fourth, we draw the state transition diagram based on our problem formulation. A figure of our state transition diagram is shown below.\n",
    "\n",
    "<img src=\"https://www.dropbox.com/s/5vglr22byn4dvs1/lightbox_state_transition_diagram.png?raw=1\" alt=\"drawing\" width=\"600\"/>"
   ]
  },
  {
   "cell_type": "markdown",
   "metadata": {},
   "source": [
    "The states are represented by the circle and we have only two states, i.e. \"on\" and \"off\". The arrow direction tells us the **next state function**. Given the current state and the input value, we know what is the next state by looking at the arrow direction. Furthermore, each arc is labelled with an input and its output. So for example, `B=0/OFF` on the most right arrow means that when the current state is \"off\" and the input 0, the output is \"off\" for that transition. This provides the **output function**.  \n",
    "\n",
    "Once we have the state transition diagram, then we can begin to write its Python implementation. First, we need to initialize the `start_state`. In our case \"off\" is the initial state of the machine."
   ]
  },
  {
   "cell_type": "code",
   "execution_count": 18,
   "metadata": {},
   "outputs": [],
   "source": [
    "class LightBoxSM(StateMachine):\n",
    "    \n",
    "    def __init__(self):\n",
    "        self.start_state = \"off\""
   ]
  },
  {
   "cell_type": "markdown",
   "metadata": {},
   "source": [
    "Next, we define the `get_next_values(state, inp)` from the state transition diagram. Notice that there are four arrows in the diagram. So we should expect to have four branches in our if-else statements."
   ]
  },
  {
   "cell_type": "code",
   "execution_count": 19,
   "metadata": {},
   "outputs": [],
   "source": [
    "class LightBoxSM(StateMachine):\n",
    "    \n",
    "    def __init__(self):\n",
    "        self.start_state = \"off\"\n",
    "        \n",
    "    def get_next_values(self, state, inp):\n",
    "        \n",
    "        if state == \"off\":\n",
    "            if inp == 1:\n",
    "                next_state = \"on\"\n",
    "            else:\n",
    "                next_state = \"off\"\n",
    "        elif state == \"on\":\n",
    "            if inp == 1:\n",
    "                next_state = \"off\"\n",
    "            else:\n",
    "                next_state = \"on\"\n",
    "        output = next_state\n",
    "        return next_state, output"
   ]
  },
  {
   "cell_type": "markdown",
   "metadata": {},
   "source": [
    "In the case here, it happens that the output function is the same as the next state function. But this is not necessarily the case in general. But looking at the state transition diagram will help us to determine both its output and next state functions. \n",
    "\n",
    "Notice that `get_next_values(state, inp)` must always return  two things: `next_state` and `output`. This is needed by the `step()` method in the `StateMachine` class.\n",
    "\n",
    "```python\n",
    "    def step(self, inp):\n",
    "        ns, o = self.get_next_values(self.state, inp)\n",
    "        self.state = ns\n",
    "        return o\n",
    "```\n",
    "\n",
    "If the `get_next_values()` only returns one thing, Python will throw an exception because it expects a tuple of two items."
   ]
  },
  {
   "cell_type": "code",
   "execution_count": 20,
   "metadata": {},
   "outputs": [],
   "source": [
    "class LightBoxSM(StateMachine):\n",
    "    \n",
    "    def __init__(self):\n",
    "        self.start_state = \"off\"\n",
    "        \n",
    "    def get_next_values(self, state, inp):\n",
    "        \n",
    "        if state == \"off\":\n",
    "            if inp == 1:\n",
    "                next_state = \"on\"\n",
    "            else:\n",
    "                next_state = \"off\"\n",
    "        elif state == \"on\":\n",
    "            if inp == 1:\n",
    "                next_state = \"off\"\n",
    "            else:\n",
    "                next_state = \"on\"\n",
    "        output = next_state\n",
    "        # trying returning only one item\n",
    "        return next_state ##, output"
   ]
  },
  {
   "cell_type": "code",
   "execution_count": 21,
   "metadata": {},
   "outputs": [
    {
     "ename": "ValueError",
     "evalue": "too many values to unpack (expected 2)",
     "output_type": "error",
     "traceback": [
      "\u001b[0;31m---------------------------------------------------------------------------\u001b[0m",
      "\u001b[0;31mValueError\u001b[0m                                Traceback (most recent call last)",
      "\u001b[0;32m<ipython-input-21-21b1cc596db3>\u001b[0m in \u001b[0;36m<module>\u001b[0;34m\u001b[0m\n\u001b[1;32m      1\u001b[0m \u001b[0mlb2\u001b[0m \u001b[0;34m=\u001b[0m \u001b[0mLightBoxSM\u001b[0m\u001b[0;34m(\u001b[0m\u001b[0;34m)\u001b[0m\u001b[0;34m\u001b[0m\u001b[0;34m\u001b[0m\u001b[0m\n\u001b[1;32m      2\u001b[0m \u001b[0mlb2\u001b[0m\u001b[0;34m.\u001b[0m\u001b[0mstart\u001b[0m\u001b[0;34m(\u001b[0m\u001b[0;34m)\u001b[0m\u001b[0;34m\u001b[0m\u001b[0;34m\u001b[0m\u001b[0m\n\u001b[0;32m----> 3\u001b[0;31m \u001b[0mprint\u001b[0m\u001b[0;34m(\u001b[0m\u001b[0mlb2\u001b[0m\u001b[0;34m.\u001b[0m\u001b[0mstep\u001b[0m\u001b[0;34m(\u001b[0m\u001b[0;36m0\u001b[0m\u001b[0;34m)\u001b[0m\u001b[0;34m)\u001b[0m\u001b[0;34m\u001b[0m\u001b[0;34m\u001b[0m\u001b[0m\n\u001b[0m",
      "\u001b[0;32m<ipython-input-4-494622e05305>\u001b[0m in \u001b[0;36mstep\u001b[0;34m(self, inp)\u001b[0m\n\u001b[1;32m      7\u001b[0m \u001b[0;34m\u001b[0m\u001b[0m\n\u001b[1;32m      8\u001b[0m     \u001b[0;32mdef\u001b[0m \u001b[0mstep\u001b[0m\u001b[0;34m(\u001b[0m\u001b[0mself\u001b[0m\u001b[0;34m,\u001b[0m \u001b[0minp\u001b[0m\u001b[0;34m)\u001b[0m\u001b[0;34m:\u001b[0m\u001b[0;34m\u001b[0m\u001b[0;34m\u001b[0m\u001b[0m\n\u001b[0;32m----> 9\u001b[0;31m         \u001b[0mns\u001b[0m\u001b[0;34m,\u001b[0m \u001b[0mo\u001b[0m \u001b[0;34m=\u001b[0m \u001b[0mself\u001b[0m\u001b[0;34m.\u001b[0m\u001b[0mget_next_values\u001b[0m\u001b[0;34m(\u001b[0m\u001b[0mself\u001b[0m\u001b[0;34m.\u001b[0m\u001b[0mstate\u001b[0m\u001b[0;34m,\u001b[0m \u001b[0minp\u001b[0m\u001b[0;34m)\u001b[0m\u001b[0;34m\u001b[0m\u001b[0;34m\u001b[0m\u001b[0m\n\u001b[0m\u001b[1;32m     10\u001b[0m         \u001b[0mself\u001b[0m\u001b[0;34m.\u001b[0m\u001b[0mstate\u001b[0m \u001b[0;34m=\u001b[0m \u001b[0mns\u001b[0m\u001b[0;34m\u001b[0m\u001b[0;34m\u001b[0m\u001b[0m\n\u001b[1;32m     11\u001b[0m         \u001b[0;32mreturn\u001b[0m \u001b[0mo\u001b[0m\u001b[0;34m\u001b[0m\u001b[0;34m\u001b[0m\u001b[0m\n",
      "\u001b[0;31mValueError\u001b[0m: too many values to unpack (expected 2)"
     ]
    }
   ],
   "source": [
    "lb2 = LightBoxSM()\n",
    "lb2.start()\n",
    "print(lb2.step(0))"
   ]
  },
  {
   "cell_type": "markdown",
   "metadata": {},
   "source": [
    "Python says \"too many values to unpack\" and it expects two items from `get_next_values()`. We can give more explanation by catching this error using `try` and `except` block in Python. So our design requires that `get_next_values()` returns both the next state and the output."
   ]
  },
  {
   "cell_type": "code",
   "execution_count": 25,
   "metadata": {},
   "outputs": [],
   "source": [
    "class LightBoxSM(StateMachine):\n",
    "    \n",
    "    def __init__(self):\n",
    "        self.start_state = \"off\"\n",
    "        \n",
    "    def get_next_values(self, state, inp):\n",
    "        \n",
    "        if state == \"off\":\n",
    "            if inp == 1:\n",
    "                next_state = \"on\"\n",
    "            else:\n",
    "                next_state = \"off\"\n",
    "        elif state == \"on\":\n",
    "            if inp == 1:\n",
    "                next_state = \"off\"\n",
    "            else:\n",
    "                next_state = \"on\"\n",
    "        output = next_state\n",
    "\n",
    "        return next_state, output"
   ]
  },
  {
   "cell_type": "markdown",
   "metadata": {},
   "source": [
    "## Designing Accumulator Class\n",
    "\n",
    "We will show one more example on how to design a state machine. This time, we would like to create an `AccumulatorSM`. This state machine simply accumulates the input. The input to this machine is any number. The following is a typical example of input and output of an accumulator.\n",
    "\n",
    "```python\n",
    "acc = AccumulatorSM() # in the beginning it's zero\n",
    "acc.step(10) # outputs 10\n",
    "acc.step(25) # outputs 35\n",
    "acc.step(-5) # outputs 30\n",
    "acc.step(11) # outputs 41\n",
    "acc.step(-41) # outputs 0\n",
    "```\n",
    "\n",
    "Let's follow the step to design this machine. The first step is to ask whether this is a state machine. The answer is affirmative because we cannot determine the output solely from the input. We have to remember what is the accumulated value up to this point in time. \n",
    "\n",
    "Second, we ask what the state is. What is the thing we have to remember? In this case is the accumulated value. To determine the output, we not only need to know the input to the machine but also the current accumulated value in the machine. This is the state of the machine.\n",
    "\n",
    "Third, we ask whether the state is finite. The answer is negative this time. The reason is that there infinite possible values of the state or the accumulated value. The accumulated value can assume any number like 10, 35, 30, 41, 0, 11, 100, 100.5, etc. It can take any values and so this time, it is not possible to draw the state transition diagram. The reason that it is not possible is that state transition diagram is feasible only if the number of state is finite, which is not the case of an accumulator.\n",
    "\n",
    "How can we determine its output and next state function? One useful tool is to fill in the **time step table**. We show such table in the example below.\n",
    "\n",
    "|                | 0  | 1  | 2  | 3  | 4   |\n",
    "|----------------|----|----|----|----|-----|\n",
    "| current state  | 0  | 10 | 35 | 30 | 41  |\n",
    "| current input  | 10 | 25 | -5 | 11 | -41 |\n",
    "| next state     | 10 | 35 | 30 | 41 | 0   |\n",
    "| current output | 10 | 35 | 30 | 41 | 0   |"
   ]
  },
  {
   "cell_type": "markdown",
   "metadata": {},
   "source": [
    "In the time step table, the columns are the different time steps like time 0, 1, 2, 3, etc. There are four rows in this table. The first one is the \"current state\". The value of this row at time step 0 is the initial state of the machine. In our case above, it is 0. The next row gives you the different input at different time steps. Our job now is to fill in the \"next state\" and the \"current output\" rows.\n",
    "\n",
    "Notice that the next state value at time $t$ is the same as the current state value at time $t+1$. How do we fill up the row \"next state\"? There is no clear step-by-step answer. One way is to identify first what is the state. Again, the state is the thing that the machine has to remember, the information needed besides the current input in order to determine the output and the next state.\n",
    "\n",
    "For example, if we look at time step 2 and ignoring the current state value 35, we should ask, given the current input -5, what is the information I need to get the output 30? Answering this question will help us to identify we need to know the accumulated value up to this point, which is the value of the current state, i.e. 35. Knowing the accumulated value 35 and the current input -5, it is straight forward to obtain the output of that time step by adding the two $output = 35 - 5 = 30$. This output is the new accumulated value in the machine and, therefore, is the information that is needed at time step 3. This is why it is set as the next state value.\n",
    "\n",
    "If we can fill up the time step table, hopefully we can try to figure out the next state and the output functions by asking: \n",
    "- How do I determine or compute the output from the current state and the current input? \n",
    "- How do I determine or compute the next state value from the current state and the current input?\n",
    "\n",
    "In this case, the output and the next state is the same and can be computed simply by adding the two:\n",
    "\n",
    "$$\\text{output} = \\text{current state} + \\text{current input}$$\n",
    "$$\\text{next state} = \\text{output}$$"
   ]
  },
  {
   "cell_type": "markdown",
   "metadata": {},
   "source": [
    "Knowing the output and next state functions enable us to write the implementation in Python. Similar to the `LightBoxSM` example, we simply need to specify two things:\n",
    "- `start_state` and\n",
    "- `get_next_values()`"
   ]
  },
  {
   "cell_type": "code",
   "execution_count": 26,
   "metadata": {},
   "outputs": [],
   "source": [
    "class AccumulatorSM(StateMachine):\n",
    "    \n",
    "    def __init__(self):\n",
    "        self.start_state = 0\n",
    "        \n",
    "    def get_next_values(self, state, inp):\n",
    "        output = state + inp\n",
    "        next_state = output\n",
    "        return next_state, output"
   ]
  },
  {
   "cell_type": "code",
   "execution_count": 28,
   "metadata": {},
   "outputs": [
    {
     "name": "stdout",
     "output_type": "stream",
     "text": [
      "10\n",
      "35\n",
      "30\n",
      "41\n",
      "0\n"
     ]
    }
   ],
   "source": [
    "acc = AccumulatorSM()\n",
    "acc.start()\n",
    "print(acc.step(10)) # outputs 10\n",
    "print(acc.step(25)) # outputs 35\n",
    "print(acc.step(-5)) # outputs 30\n",
    "print(acc.step(11)) # outputs 41\n",
    "print(acc.step(-41)) # outputs 0"
   ]
  },
  {
   "cell_type": "markdown",
   "metadata": {},
   "source": [
    "## Start Method in StateMachine Class\n",
    "\n",
    "It is important to call the `start()` method before running `step()`. The reason is that the state machine's state is initialized with the starting state only at the call of the `start()` method. Let's try what happens if we call `step()` without first calling `start()`."
   ]
  },
  {
   "cell_type": "code",
   "execution_count": 29,
   "metadata": {},
   "outputs": [
    {
     "ename": "AttributeError",
     "evalue": "'AccumulatorSM' object has no attribute 'state'",
     "output_type": "error",
     "traceback": [
      "\u001b[0;31m---------------------------------------------------------------------------\u001b[0m",
      "\u001b[0;31mAttributeError\u001b[0m                            Traceback (most recent call last)",
      "\u001b[0;32m<ipython-input-29-234b6b850979>\u001b[0m in \u001b[0;36m<module>\u001b[0;34m\u001b[0m\n\u001b[1;32m      1\u001b[0m \u001b[0macc\u001b[0m \u001b[0;34m=\u001b[0m \u001b[0mAccumulatorSM\u001b[0m\u001b[0;34m(\u001b[0m\u001b[0;34m)\u001b[0m\u001b[0;34m\u001b[0m\u001b[0;34m\u001b[0m\u001b[0m\n\u001b[1;32m      2\u001b[0m \u001b[0;31m# acc.start()\u001b[0m\u001b[0;34m\u001b[0m\u001b[0;34m\u001b[0m\u001b[0;34m\u001b[0m\u001b[0m\n\u001b[0;32m----> 3\u001b[0;31m \u001b[0mprint\u001b[0m\u001b[0;34m(\u001b[0m\u001b[0macc\u001b[0m\u001b[0;34m.\u001b[0m\u001b[0mstep\u001b[0m\u001b[0;34m(\u001b[0m\u001b[0;36m10\u001b[0m\u001b[0;34m)\u001b[0m\u001b[0;34m)\u001b[0m \u001b[0;31m# outputs 10\u001b[0m\u001b[0;34m\u001b[0m\u001b[0;34m\u001b[0m\u001b[0m\n\u001b[0m\u001b[1;32m      4\u001b[0m \u001b[0mprint\u001b[0m\u001b[0;34m(\u001b[0m\u001b[0macc\u001b[0m\u001b[0;34m.\u001b[0m\u001b[0mstep\u001b[0m\u001b[0;34m(\u001b[0m\u001b[0;36m25\u001b[0m\u001b[0;34m)\u001b[0m\u001b[0;34m)\u001b[0m \u001b[0;31m# outputs 35\u001b[0m\u001b[0;34m\u001b[0m\u001b[0;34m\u001b[0m\u001b[0m\n\u001b[1;32m      5\u001b[0m \u001b[0mprint\u001b[0m\u001b[0;34m(\u001b[0m\u001b[0macc\u001b[0m\u001b[0;34m.\u001b[0m\u001b[0mstep\u001b[0m\u001b[0;34m(\u001b[0m\u001b[0;34m-\u001b[0m\u001b[0;36m5\u001b[0m\u001b[0;34m)\u001b[0m\u001b[0;34m)\u001b[0m \u001b[0;31m# outputs 30\u001b[0m\u001b[0;34m\u001b[0m\u001b[0;34m\u001b[0m\u001b[0m\n",
      "\u001b[0;32m<ipython-input-22-556607471350>\u001b[0m in \u001b[0;36mstep\u001b[0;34m(self, inp)\u001b[0m\n\u001b[1;32m      8\u001b[0m     \u001b[0;32mdef\u001b[0m \u001b[0mstep\u001b[0m\u001b[0;34m(\u001b[0m\u001b[0mself\u001b[0m\u001b[0;34m,\u001b[0m \u001b[0minp\u001b[0m\u001b[0;34m)\u001b[0m\u001b[0;34m:\u001b[0m\u001b[0;34m\u001b[0m\u001b[0;34m\u001b[0m\u001b[0m\n\u001b[1;32m      9\u001b[0m         \u001b[0;32mtry\u001b[0m\u001b[0;34m:\u001b[0m\u001b[0;34m\u001b[0m\u001b[0;34m\u001b[0m\u001b[0m\n\u001b[0;32m---> 10\u001b[0;31m             \u001b[0mns\u001b[0m\u001b[0;34m,\u001b[0m \u001b[0mo\u001b[0m \u001b[0;34m=\u001b[0m \u001b[0mself\u001b[0m\u001b[0;34m.\u001b[0m\u001b[0mget_next_values\u001b[0m\u001b[0;34m(\u001b[0m\u001b[0mself\u001b[0m\u001b[0;34m.\u001b[0m\u001b[0mstate\u001b[0m\u001b[0;34m,\u001b[0m \u001b[0minp\u001b[0m\u001b[0;34m)\u001b[0m\u001b[0;34m\u001b[0m\u001b[0;34m\u001b[0m\u001b[0m\n\u001b[0m\u001b[1;32m     11\u001b[0m         \u001b[0;32mexcept\u001b[0m \u001b[0mValueError\u001b[0m\u001b[0;34m:\u001b[0m\u001b[0;34m\u001b[0m\u001b[0;34m\u001b[0m\u001b[0m\n\u001b[1;32m     12\u001b[0m             \u001b[0mprint\u001b[0m\u001b[0;34m(\u001b[0m\u001b[0;34m\"Did you return both next_state and output?\"\u001b[0m\u001b[0;34m)\u001b[0m\u001b[0;34m\u001b[0m\u001b[0;34m\u001b[0m\u001b[0m\n",
      "\u001b[0;31mAttributeError\u001b[0m: 'AccumulatorSM' object has no attribute 'state'"
     ]
    }
   ],
   "source": [
    "acc = AccumulatorSM()\n",
    "# acc.start()\n",
    "print(acc.step(10)) # outputs 10\n",
    "print(acc.step(25)) # outputs 35\n",
    "print(acc.step(-5)) # outputs 30\n",
    "print(acc.step(11)) # outputs 41\n",
    "print(acc.step(-41)) # outputs 0"
   ]
  },
  {
   "cell_type": "markdown",
   "metadata": {},
   "source": [
    "Python produces and error saying that the `AccumulatorSM` object has no attribute called `state`. The reason is that the attribute `state` is only created and assigned inside the method `start()`. Recall in our class definition how the method is implemented.\n",
    "\n",
    "```python\n",
    "class StateMachine(ABC):\n",
    "    \n",
    "    def start(self):\n",
    "        self.state = self.start_state\n",
    "```\n",
    "\n",
    "What's the purpose of this method? Why can't we just initialize the `state` attribute inside `__init__(self)` of the `StateMachine` class. The reason is that `__init__()` is only called one time during object instantiation. On the other hand, creating another method called `start()` allows us to call this method again in the event that we wish to \"restart\" the state machine back to its original state. Consider the following example."
   ]
  },
  {
   "cell_type": "code",
   "execution_count": 31,
   "metadata": {},
   "outputs": [
    {
     "name": "stdout",
     "output_type": "stream",
     "text": [
      "10\n",
      "35\n",
      "30\n",
      "41\n",
      "0\n",
      "100\n",
      "110\n"
     ]
    }
   ],
   "source": [
    "acc = AccumulatorSM()\n",
    "acc.start()\n",
    "print(acc.step(10)) # outputs 10\n",
    "print(acc.step(25)) # outputs 35\n",
    "print(acc.step(-5)) # outputs 30\n",
    "print(acc.step(11)) # outputs 41\n",
    "print(acc.step(-41)) # outputs 0\n",
    "\n",
    "# restart machine\n",
    "acc.start()\n",
    "print(acc.step(100)) # outputs 100\n",
    "print(acc.step(10)) # outputs 110"
   ]
  },
  {
   "cell_type": "markdown",
   "metadata": {},
   "source": [
    "Having such initialization outside `__init__()` allows this flexibility of restarting the state of the machine."
   ]
  }
 ],
 "metadata": {
  "kernelspec": {
   "display_name": "Python 3",
   "language": "python",
   "name": "python3"
  },
  "language_info": {
   "codemirror_mode": {
    "name": "ipython",
    "version": 3
   },
   "file_extension": ".py",
   "mimetype": "text/x-python",
   "name": "python",
   "nbconvert_exporter": "python",
   "pygments_lexer": "ipython3",
   "version": "3.8.5"
  }
 },
 "nbformat": 4,
 "nbformat_minor": 4
}
