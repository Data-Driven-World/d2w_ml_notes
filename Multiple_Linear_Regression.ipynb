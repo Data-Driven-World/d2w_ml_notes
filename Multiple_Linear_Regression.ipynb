{
 "cells": [
  {
   "cell_type": "markdown",
   "metadata": {},
   "source": [
    "# Multiple Linear Regression\n",
    "\n",
    "## Introduction\n",
    "\n",
    "In the previous notes, we only have one independent variable or one feature. In most cases of machine learning, we want to include more than one feature or we want to have a hypothesis that is not simply a straight line. This section discusses how we can include more than one feature and how to model our equation beyond a simple straight line using multiple linear regression."
   ]
  },
  {
   "cell_type": "markdown",
   "metadata": {},
   "source": [
    "## Hypothesis\n",
    "\n",
    "Recall that in linear regression, our hypothesis is written as follows.\n",
    "\n",
    "$$h_\\theta(x) = \\theta_0 + \\theta_1 x$$\n",
    "\n",
    "where $x$ is the only independent variable or feature. In multiple linear regression, we have more than one feature. We will write our hypothesis as follows.\n",
    "\n",
    "$$h_\\theta(x) = \\theta_0 + \\theta_1 x_1 + \\theta_2 x_2 + \\ldots + \\theta_n x_n$$\n",
    "\n",
    "In the above hypothesis, we have $n$ features. Note also that we can assume to have $x_0 = 1$ with $\\theta_0$ as its coefficient.\n"
   ]
  },
  {
   "cell_type": "markdown",
   "metadata": {},
   "source": [
    "We can write this in terms of a row vector, where the features are written as\n",
    "\n",
    "$$\\mathbf{X} = \\begin{vmatrix}\n",
    "x_0 & x_1 & \\ldots & x_n\n",
    "\\end{vmatrix} \\in {\\rm I\\!R}^{n+1}$$\n",
    "\n",
    "note that the dimension of the feature is $n+1$ because we have $x_0 = 1$ which is a constant of 1. "
   ]
  },
  {
   "cell_type": "markdown",
   "metadata": {},
   "source": [
    "The constants can be written as follows.\n",
    "\n",
    "$$\\mathbf{\\Theta} = \\begin{vmatrix}\n",
    "\\theta_0 \\\\\n",
    "\\theta_1 \\\\\n",
    "\\ldots \\\\\n",
    "\\theta_n\n",
    "\\end{vmatrix} \\in {\\rm I\\!R}^{n+1}$$"
   ]
  },
  {
   "cell_type": "markdown",
   "metadata": {},
   "source": [
    "Our system equations for all the data points can be written as follows.\n",
    "\n",
    "$$h_\\theta(x^1) = \\theta_0 + \\theta_1 x_1^1 + \\theta_2 x_2^1 + \\ldots + \\theta_n x_n^1$$\n",
    "$$h_\\theta(x^2) = \\theta_0 + \\theta_1 x_1^2 + \\theta_2 x_2^2 + \\ldots + \\theta_n x_n^2$$\n",
    "$$\\ldots$$\n",
    "$$h_\\theta(x^m) = \\theta_0 + \\theta_1 x_1^m + \\theta_2 x_2^m + \\ldots + \\theta_n x_n^m$$\n",
    "\n",
    "In the above equations, the superscript indicate the index for the data points from 1 to $m$, assuming there are $m$ data points."
   ]
  },
  {
   "cell_type": "markdown",
   "metadata": {},
   "source": [
    "To write the hypothesis as a matrix equation we first need to write the features as a matrix for all the data points.\n",
    "\n",
    "$$\\mathbf{X} = \\begin{vmatrix}\n",
    "1 & x_1^1 & \\ldots & x_n^1 \\\\\n",
    "1 & x_1^2 & \\ldots & x_n^2 \\\\\n",
    "\\ldots & \\ldots & \\ldots & \\ldots \\\\\n",
    "1 & x_1^m & \\ldots & x_n^m\n",
    "\\end{vmatrix} \\in {\\rm I\\!R}^{m \\times (n+1)}$$\n",
    "\n",
    "with this, we can now write the hypothesis as a matrix multiplication.\n",
    "\n",
    "$$\\mathbf{H} = \\mathbf{X} \\times \\mathbf{\\Theta}$$"
   ]
  },
  {
   "cell_type": "markdown",
   "metadata": {},
   "source": [
    "## Cost Function\n",
    "\n",
    "Recall that the cost function is written as follows.\n",
    "\n",
    "$$J(\\theta_0, \\theta_1) = \\frac{1}{2m}\\Sigma^m_{i=1}\\left(h_{\\theta}(x^i)-y^i\\right)^2$$"
   ]
  },
  {
   "cell_type": "markdown",
   "metadata": {},
   "source": [
    "We can rewrite the square as a multiplication instead and make use of matrix multplication to express it.\n",
    "\n",
    "$$J(\\theta_0, \\theta_1) = \\frac{1}{2m}\\Sigma^m_{i=1}\\left(h_{\\theta}(x^i)-y^i\\right)\\times \\left(h_{\\theta}(x^i)-y^i\\right)$$"
   ]
  },
  {
   "cell_type": "markdown",
   "metadata": {},
   "source": [
    "Writing it as matrix multiplication gives us the following.\n",
    "\n",
    "$$J(\\theta_0, \\theta_1) = \\frac{1}{2m}(\\mathbf{H}-\\mathbf{y})^T\\times (\\mathbf{H}-\\mathbf{y})$$"
   ]
  },
  {
   "cell_type": "markdown",
   "metadata": {},
   "source": [
    "## Gradient Descent\n",
    "\n",
    "Recall that the update function for gradient descern algorithm for a linear regression is given as follows.\n",
    "\n",
    "$$\\theta_0 = \\theta_0 - \\alpha \\frac{1}{m}\\Sigma_{i=1}^m\\left(h_{\\theta}(x^i) - y^i\\right)$$\n",
    "\n",
    "$$\\theta_1 = \\theta_1 - \\alpha \\frac{1}{m}\\Sigma_{i=1}^m\\left(h_{\\theta}(x^i) - y^i\\right)x^i$$"
   ]
  },
  {
   "cell_type": "markdown",
   "metadata": {},
   "source": [
    "In the case of multiple linear regression, we have more than one feature and so we need to differentiate for each $\\theta_j$. Doing this will result in a system of equation as follows.\n",
    "\n",
    "$$\\theta_0 = \\theta_0 - \\alpha \\frac{1}{m}\\Sigma_{i=1}^m\\left(h_{\\theta}(x^i) - y^i\\right)x_0^i$$\n",
    "\n",
    "$$\\theta_1 = \\theta_1 - \\alpha \\frac{1}{m}\\Sigma_{i=1}^m\\left(h_{\\theta}(x^i) - y^i\\right)x_1^i$$\n",
    "\n",
    "$$\\theta_2 = \\theta_2 - \\alpha \\frac{1}{m}\\Sigma_{i=1}^m\\left(h_{\\theta}(x^i) - y^i\\right)x_2^i$$\n",
    "\n",
    "$$\\ldots$$\n",
    "\n",
    "$$\\theta_n = \\theta_n - \\alpha \\frac{1}{m}\\Sigma_{i=1}^m\\left(h_{\\theta}(x^i) - y^i\\right)x_n^i$$"
   ]
  },
  {
   "cell_type": "markdown",
   "metadata": {},
   "source": [
    "Note that $x_0 = 1$ for all $i$."
   ]
  },
  {
   "cell_type": "markdown",
   "metadata": {},
   "source": [
    "We can now write the gradient descent update function using matrix operations.\n",
    "\n",
    "$$\\mathbf{\\Theta} = \\mathbf{\\Theta} - \\alpha\\frac{1}{m} \\mathbf{X}^T \\times (\\mathbf{H} - y)$$"
   ]
  },
  {
   "cell_type": "markdown",
   "metadata": {},
   "source": [
    "Substituting the equation for $\\mathbf{H}$ gives us the following.\n",
    "\n",
    "$$\\mathbf{\\Theta} = \\mathbf{\\Theta} - \\alpha\\frac{1}{m} \\mathbf{X}^T \\times (\\mathbf{X}\\times \\mathbf{\\Theta} - y)$$"
   ]
  },
  {
   "cell_type": "code",
   "execution_count": null,
   "metadata": {},
   "outputs": [],
   "source": []
  }
 ],
 "metadata": {
  "kernelspec": {
   "display_name": "Python 3",
   "language": "python",
   "name": "python3"
  },
  "language_info": {
   "codemirror_mode": {
    "name": "ipython",
    "version": 3
   },
   "file_extension": ".py",
   "mimetype": "text/x-python",
   "name": "python",
   "nbconvert_exporter": "python",
   "pygments_lexer": "ipython3",
   "version": "3.7.4"
  }
 },
 "nbformat": 4,
 "nbformat_minor": 4
}
