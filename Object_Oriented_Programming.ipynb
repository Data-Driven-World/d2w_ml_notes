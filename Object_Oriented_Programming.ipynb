{
 "cells": [
  {
   "cell_type": "markdown",
   "metadata": {},
   "source": [
    "# Object Oriented Programming"
   ]
  },
  {
   "cell_type": "markdown",
   "metadata": {
    "colab_type": "text",
    "id": "VwchUZ8BknrC"
   },
   "source": [
    "# Objectives\n",
    "\n",
    "- Create Class Definitions with initialization and other methods\n",
    "- Create stored property and computed property\n",
    "- Draw object diagram of an object\n",
    "- Explain has-a relationship\n",
    "- Discuss object aliasing and copying\n",
    "- Draw UML diagram for has-a relationship\n",
    "- Implement abstract data type for Stack, Queue using Object Oriented paradigm\n",
    "- Apply Stack and Queue for some applications\n",
    "- Discuss implementation impact on computation time"
   ]
  },
  {
   "cell_type": "markdown",
   "metadata": {
    "colab_type": "text",
    "id": "hd7u9bYm44T2"
   },
   "source": [
    "# Outline\n",
    "Introduction: Motivate why we use Object Oriented \n",
    "\n",
    "---\n",
    "Two Necessary Thing: Class Definition and Object Instantiation \n",
    "\n",
    "Class Definition:  \n",
    "- [x] show how to define a class with __init__() to initialize some properties \n",
    "- [x] Show how to define method \n",
    "- [x] Explain what is \"self\" \n",
    "\n",
    "Object Instantiation: \n",
    "- [x] Show how to instantiate an object \n",
    "- [x] Discuss dot operator \n",
    "- [x] Show how to access and modify properties \n",
    "- [x] Show how to call methods \n",
    "\n",
    "\n",
    "- [ ] Introduce Basic UML \n",
    "\n",
    "---\n",
    "- [x] Motivate why we want to learn about Data Structures \n",
    "- [x] Introduce Linear Data Structures: Stack and Queues \n",
    "- [ ] Show UML for Stack and Queues \n",
    "\n",
    "\n",
    "- [x] Explain evaluate Expression application using Stack \n",
    "\n",
    "\n",
    "- [x] Explain Radix sorting machine using Queues \n",
    "\n",
    "\n",
    "- [x] Pseudocode \n",
    "\n",
    "\n",
    "- [ ] Introduce Double Stack implementation of Queues and discuss computational time "
   ]
  },
  {
   "cell_type": "markdown",
   "metadata": {
    "colab_type": "text",
    "id": "1AksY5mfrT8-"
   },
   "source": [
    "# Object Oriented Programming\n",
    "\n",
    "### What is Object Oriented Programming?\n",
    "Object-oriented programming (OOP) is a programming paradigm based on the concept of \"objects\". (https://en.wikipedia.org/wiki/Object-oriented_programming)  \n",
    "\n",
    "As your program grows in complexity, you may need something more than simple built-in data types such as `str`, `int`, or `list`. For example, when you create a game, you may need an `Avatar`, or `Weapon`, etc. In these cases, it is easier to organize your code around objects. You can think of objects as your own user-defined data types. Later you will see that these objects have two main things: \n",
    "- properties: which defines the characteristic of the object, and\n",
    "- methods: which defines what the object can do\n",
    "Properties and methods define your object. \n",
    "\n",
    "For example, let's say you want to create a computer game with a Dog as its character. In this case, you may want to define a new data type called `Dog`.  \n",
    "`Dog` will have the **attributes** `dog_breed`, `weight`, and `name`. A real dog can `bark`, so the data type `Dog` would have the **methods** `bark` and `big_bark`. Methods are a kind of functions which apply to our user-defined data type.\n",
    "\n",
    "When dealing with objects, you need to do the following:\n",
    "1. Define a class, which defines the object\n",
    "1. Instantiate an object, which actually creates the object\n",
    "\n",
    "The Python's code below shows how to do this for `Dog`."
   ]
  },
  {
   "cell_type": "code",
   "execution_count": 3,
   "metadata": {
    "colab": {
     "base_uri": "https://localhost:8080/",
     "height": 52
    },
    "colab_type": "code",
    "id": "1BFjdRAW0-Ne",
    "outputId": "52945723-3ecd-4064-9d80-d702d9088b13"
   },
   "outputs": [
    {
     "name": "stdout",
     "output_type": "stream",
     "text": [
      "Lombok\n",
      "bark!\n",
      "Lombok SAYS BARK!\n"
     ]
    }
   ],
   "source": [
    "# Class definition\n",
    "class Dog:\n",
    "    # Attributes:\n",
    "    def __init__(self, breed, weight, name):\n",
    "        self.dog_breed = breed\n",
    "        self.weight = weight\n",
    "        self.name = name\n",
    "\n",
    "    # Methods:\n",
    "    def bark(self):\n",
    "        print(\"bark!\")\n",
    "\n",
    "    def big_bark(self):\n",
    "        print(f\"{self.name:} SAYS BARK!\")\n",
    "\n",
    "\n",
    "# Object Instantiation\n",
    "my_dog = Dog(\"German Shepherd\", 7, \"Lombok\")\n",
    "\n",
    "# Accessing object's attribute\n",
    "print(my_dog.name)\n",
    "\n",
    "# Using object's method\n",
    "my_dog.bark()\n",
    "my_dog.big_bark()\n",
    "\n"
   ]
  },
  {
   "cell_type": "markdown",
   "metadata": {
    "colab_type": "text",
    "id": "uZfgO0AG1HWa"
   },
   "source": [
    "- Notice the above code starts with a Class Definition. To define a class, we use the keyword `class` followed by the class name `Dog`.\n",
    "- The keyword `def` inside the class defines the method that the object can do. \n",
    "- The first method is special and it is called `__init__()`. This method is always called during _object instantiation_. \n",
    "- The object is created or _instantiated_ by using the class name followed by some values used to initialzed the object. In this case: `Dog(\"German Shepherd\", 7, \"Lombok\")`. This object is then stored in `my_dog` variable.\n",
    "- Each of the argument in the _object instantiation_ is passed on to the `__init__()` method, starting from the **second** argument onwards. Note that the **first** argument of a method in a class is called `self`. Notice the `self` argument is found inside the method `bark` and `big_bark`. The first arugment in a method, which in this case is `self`, refers to the particular object instance of the class. It can also be used to access methods and attributes of the current object.\n",
    "- `my_dog.name` inside the `print()` function access the value of the attribute `name` of the object using the **dot operator**. A dot operator/notation allows us to access the attributes and methods of an instance of a class.\n",
    "- `my_dog.bark()` is calling the method `bark` using **dot operator**. \n",
    "- By accessing an instance's attribute, we can modify the value of the attribute.\n"
   ]
  },
  {
   "cell_type": "code",
   "execution_count": 4,
   "metadata": {},
   "outputs": [
    {
     "name": "stdout",
     "output_type": "stream",
     "text": [
      "Becky\n"
     ]
    }
   ],
   "source": [
    "my_dog.name = \"Becky\"\n",
    "print(my_dog.name)"
   ]
  },
  {
   "cell_type": "markdown",
   "metadata": {},
   "source": [
    "The line above will change the value of attribute `name` from Lombok to Becky.  \n",
    "\n",
    "\n",
    "### Special Methods\n",
    "Special methods are usually written with **double underscores** before and after their name. The most important special method is **`__init__`**. It is called everytime an object is created or instantiated. This method is used to initialize the values of the object's attributes. Below is an example of an `__init__` method for the class `Dog`.\n",
    "\n",
    "```python\n",
    "class Dog:\n",
    "    # Attributes:\n",
    "    def __init__(self, breed, weight, name):\n",
    "        self.dog_breed = breed\n",
    "        self.weight = weight\n",
    "        self.name = name\n",
    "```\n",
    "\n",
    "During object creation or instantiation, we need to provide the actual values of those attributes as shown below.\n",
    "```python\n",
    "# Object Instantiation\n",
    "my_dog = Dog(\"German Shepherd\", 7, \"Lombok\")\n",
    "```\n",
    "\n",
    "### Default Values in Methods and Functions\n",
    "We can define a default value in methods and special methods. This means that when the object is created, we can leave some of the arguments to its default values instead of specifying all its arguments. For example, we can write something like:\n",
    "```python\n",
    "# Object Instantiation\n",
    "my_dog = Dog(\"German Shepherd\")\n",
    "```\n",
    "\n",
    "Notice that we did not specify the weight and the name of the `Dog` object. To do this, we specify the default value in the argument as shown below.\n",
    "\n",
    "```python\n",
    "class Dog:\n",
    "    def __init__(self, breed, weight=5, name=\"Doggy\"):\n",
    "        self.dog_breed = breed\n",
    "        self.weight = weight\n",
    "        self.name = name\n",
    "        print(\"A new dog has been created!\")\n",
    "```\n",
    "\n",
    "Here we pass an optional input for the `weight` attribute to 5. This means that when `weight` is not specified, by default it will be 5. Similarly, we specify the default value for `name` to be `Doggy`. "
   ]
  },
  {
   "cell_type": "code",
   "execution_count": 5,
   "metadata": {
    "colab": {
     "base_uri": "https://localhost:8080/",
     "height": 52
    },
    "colab_type": "code",
    "id": "7eBK1cJjAwXY",
    "outputId": "63484cf2-ff8e-460a-ba75-40640561df9b"
   },
   "outputs": [
    {
     "name": "stdout",
     "output_type": "stream",
     "text": [
      "A new dog has been created!\n",
      "Doggy's weight is 5\n"
     ]
    }
   ],
   "source": [
    "class Dog:\n",
    "    def __init__(self, breed, weight=5, name=\"Doggy\"):\n",
    "        self.dog_breed = breed\n",
    "        self.weight = weight\n",
    "        self.name = name\n",
    "        print(\"A new dog has been created!\")\n",
    "\n",
    "\n",
    "my_dog = Dog(\"German Shepherd\")\n",
    "print(f\"{my_dog.name:}'s weight is\", my_dog.weight)"
   ]
  },
  {
   "cell_type": "markdown",
   "metadata": {
    "colab_type": "text",
    "id": "SarFxq9HAv-P"
   },
   "source": [
    "### Class Property\n",
    "`property` is a function used to create an object's property. Property provides an interface to instance attributes.\n",
    "\n",
    "Example of usage in `Dog` class:"
   ]
  },
  {
   "cell_type": "code",
   "execution_count": 15,
   "metadata": {
    "colab": {
     "base_uri": "https://localhost:8080/",
     "height": 72
    },
    "colab_type": "code",
    "id": "JaGUMLrBMjJu",
    "outputId": "45bff17a-4d6a-4d1c-faed-e5bef9363065"
   },
   "outputs": [
    {
     "name": "stdout",
     "output_type": "stream",
     "text": [
      "A new dog has been created!\n",
      "Lombok\n",
      "New name\n"
     ]
    }
   ],
   "source": [
    "class Dog:\n",
    "    def __init__(self, breed, weight=5, name=\"Doggy\"):\n",
    "        self.dog_breed = breed\n",
    "        self.weight = weight\n",
    "        self.name = name\n",
    "        print(\"A new dog has been created!\")\n",
    "    \n",
    "    def get_name(self):\n",
    "        return self._name\n",
    "    \n",
    "    def set_name(self,name):\n",
    "        if isinstance(name, str) and name != \"\":\n",
    "            self._name = name\n",
    "        else:\n",
    "            self._name = \"Doggy\"\n",
    "    \n",
    "    name = property(get_name, set_name)\n",
    "\n",
    "\n",
    "lombok = Dog(\"German Shepherd\", 7, \"Lombok\")\n",
    "print(lombok.name)\n",
    "lombok.name = \"New name\"\n",
    "print(lombok.name)"
   ]
  },
  {
   "cell_type": "markdown",
   "metadata": {
    "colab_type": "text",
    "id": "3UADICPWNab3"
   },
   "source": [
    "The full syntax of the `property` would be:\n",
    "```python\n",
    "prop=property(getter, setter, deleter, docstring)\n",
    "```\n",
    "\n",
    "Note the following:\n",
    "- You assign value to a property using the assignment operator, such as in `lombok.name = \"New name\"`. What happens here is that Python calls the setter method, which in our case is called `set_name()`.\n",
    "- The setter method, checks if the value is a string object and it is not empty. If it is not a string or if it is an empty string, the attribute `_name` will be assigned to a default name `Doggy`. This is one benefit of using property instead of simple attribute. In setting up a property, you can ensure that the value assign to the attribute is a valid value. Note also that we have renamed our attribute to `_name` to differentiate our attribute's name with the property's name, which is called `name`.\n",
    "- The getter method simply returns the value of the attribute.\n",
    "- In the `__init__()` method, we actually assign the value to the **property** `name`. This happens in this line: `self.name = name`. This calls the setter method before assigning to the attribute `self._name`."
   ]
  },
  {
   "cell_type": "markdown",
   "metadata": {},
   "source": [
    "### Property Using Decorator\n",
    "\n",
    "Python provides decorator which can be used to modify the function that we define. We can similarly create property using decorator as in the following code."
   ]
  },
  {
   "cell_type": "code",
   "execution_count": 16,
   "metadata": {},
   "outputs": [
    {
     "name": "stdout",
     "output_type": "stream",
     "text": [
      "A new dog has been created!\n",
      "Lombok\n",
      "New name\n"
     ]
    }
   ],
   "source": [
    "class Dog:\n",
    "    def __init__(self, breed, weight=5, name=\"Doggy\"):\n",
    "        self.dog_breed = breed\n",
    "        self.weight = weight\n",
    "        self.name = name\n",
    "        print(\"A new dog has been created!\")\n",
    "\n",
    "    @property\n",
    "    def name(self):\n",
    "        return self._name\n",
    "    \n",
    "    @name.setter\n",
    "    def name(self,name):\n",
    "        if isinstance(name, str) and name != \"\":\n",
    "            self._name = name\n",
    "        else:\n",
    "            self._name = \"Doggy\"\n",
    "\n",
    "lombok = Dog(\"German Shepherd\", 7, \"Lombok\")\n",
    "print(lombok.name)\n",
    "lombok.name = \"New name\"\n",
    "print(lombok.name)"
   ]
  },
  {
   "cell_type": "markdown",
   "metadata": {},
   "source": [
    "# Object Oriented Design, the Doggy Game"
   ]
  },
  {
   "cell_type": "markdown",
   "metadata": {},
   "source": [
    "We are going to create a Doggy Game, which is a simple game of a Dog chasing a ball. The dog always starts at its cage which is at position (0,0). The game then throws a ball which will be placed randomly in a 4 x 4 grid. The user is then to move the dog to the ball position and comes back. To make the game challenging, we will make the game to be text-based. So the player has to use their imagination to visualize where the dog is and the ball is. In level 1, there is no obstacles, but in level 2, we will place obstacles. We will display the obstacles as a list of coordinates :). "
   ]
  },
  {
   "cell_type": "code",
   "execution_count": null,
   "metadata": {},
   "outputs": [],
   "source": []
  }
 ],
 "metadata": {
  "colab": {
   "collapsed_sections": [],
   "name": "D2W Week 4 Notes Draft",
   "provenance": []
  },
  "kernelspec": {
   "display_name": "Python 3",
   "language": "python",
   "name": "python3"
  },
  "language_info": {
   "codemirror_mode": {
    "name": "ipython",
    "version": 3
   },
   "file_extension": ".py",
   "mimetype": "text/x-python",
   "name": "python",
   "nbconvert_exporter": "python",
   "pygments_lexer": "ipython3",
   "version": "3.7.4"
  }
 },
 "nbformat": 4,
 "nbformat_minor": 4
}
