{
 "cells": [
  {
   "cell_type": "markdown",
   "metadata": {},
   "source": [
    "# Object Oriented Programming"
   ]
  },
  {
   "cell_type": "markdown",
   "metadata": {
    "colab_type": "text",
    "id": "1AksY5mfrT8-"
   },
   "source": [
    "## What is Object Oriented Programming?\n",
    "Object-oriented programming (OOP) is a programming paradigm based on the concept of \"objects\". (https://en.wikipedia.org/wiki/Object-oriented_programming)  \n",
    "\n",
    "As your program grows in complexity, you may need something more than simple built-in data types such as `str`, `int`, or `list`. For example, when you create a game, you may need an `Avatar`, or `Weapon`, etc. In these cases, it is easier to organize your code around objects. You can think of objects as your own user-defined data types. Later you will see that these objects have two main things: \n",
    "- attributes: which defines the characteristic of the object, and\n",
    "- methods: which defines what the object can do\n",
    "Attributes and methods define your object. \n",
    "\n",
    "You actually have worked with objects if you use `list` and `str` data type in your program. These are called **built-in** objects in Python. Python has provided these objects for you to use. What we will do in this section is to create your own **user-defined** objects. \n",
    "\n",
    "We will see that user-defined objects are made of other data (attributes) and computations (methods). Moreover, we will see that **any** code can be abstracted as an **object** since any computer code are made of data (attributes) and some computations (methods). In these lessons, we will see how OOP will be used for both creating user-defined data type as well as for abstracting the whole program. \n",
    "\n",
    "## Attributes and Methods\n",
    "\n",
    "For example, let's say you want to create a computer game with a Robot Turtle as its character. In this case, you may want to define a new data type called `RobotTurtle`.  `RobotTurtle` will have the **attributes** `speed` and `name`. Attributes describes the object and its properties. It is usually a *noun* and it is defined as a kind of variable within the object. On the other hand a Robot Turtle can `move`. So the data type `RobotTurtle` would have a **method** called `move`. Methods are a kind of functions which apply to our user-defined data type. A method describes what the object can do and so it is usually a *verb*. In order to create our user-defined objects, we have to do the following:\n",
    "1. Define a class, which defines the object with its attributes and methods\n",
    "1. Instantiate an object, which actually creates the object\n",
    "\n",
    "The class definition tells Python about your user-defined object and how to create it. It tells Python what attributes this object has using some existing built-in data types or other defined objects. It tells Python what methods the object can do. But it is important to note that a class definition is just like a kind of contract on a piece of paper. The contract does not create the object. *Instantiation* is the step that actually creates the object in the computer's memory. We will show these two steps below.\n",
    "\n",
    "First, let's start by defining our `RobotTurtle` class."
   ]
  },
  {
   "cell_type": "code",
   "execution_count": 10,
   "metadata": {
    "colab": {
     "base_uri": "https://localhost:8080/",
     "height": 52
    },
    "colab_type": "code",
    "id": "1BFjdRAW0-Ne",
    "outputId": "52945723-3ecd-4064-9d80-d702d9088b13"
   },
   "outputs": [],
   "source": [
    "# Class definition\n",
    "class RobotTurtle:\n",
    "    # Attributes:\n",
    "    def __init__(self, name, speed=1):\n",
    "        self._name = name\n",
    "        self._speed = speed\n",
    "        self._pos = (0, 0)\n",
    "\n",
    "    # Methods:\n",
    "    def move(self, direction):\n",
    "        update = {'up' : (self._pos[0], self._pos[1] + self._speed),\n",
    "                  'down' : (self._pos[0], self._pos[1] - self._speed),\n",
    "                  'left' : (self._pos[0] - self._speed, self._pos[1]),\n",
    "                  'right' : (self._pos[0] + self._speed, self._pos[1])}\n",
    "        self._pos = update[direction]\n",
    "        \n",
    "    def tell_name(self):\n",
    "        print(f\"My name is {self._name}\")\n",
    "\n",
    "\n"
   ]
  },
  {
   "cell_type": "markdown",
   "metadata": {
    "colab_type": "text",
    "id": "uZfgO0AG1HWa"
   },
   "source": [
    "Some notes on the class definition: \n",
    "\n",
    "- Notice the above code starts with a Class Definition. To define a class, we use the keyword `class` followed by the class name `RobotTurtle`.\n",
    "- The keyword `def` inside the class defines the **method** which tells Python what the object can do. \n",
    "- The first method is special and it is called `__init__()`. This method is always called during _object instantiation_. This special method is called to *initialize* the object's attributes during *instantiation*. In this definition, we see that during instantation, we ask Python to initialize three attributes:\n",
    "    - `_name` which is a string and is initialized using the first argument during object instantiation.\n",
    "    - `_speed` which is a number and is initialized using the second optional argument.\n",
    "    - `_pos` which is the position using a tuple of two numbers and is initalized to `(0,0)`.\n",
    "- The class definition also contains two other **user-defined** methods:\n",
    "    - `move(direction)` which is to move the Robot Turtle to certain direction according to its speed.\n",
    "    - `tell_name()` which is to print out the name of the Robot Turtle.\n",
    "    \n",
    "It is important to remember that the class definition is just a description of the object and works as a kind of template or contract. The definition does not create the object itself. The object creation happens by doing the following:\n",
    "\n",
    "\n",
    "\n"
   ]
  },
  {
   "cell_type": "code",
   "execution_count": 11,
   "metadata": {},
   "outputs": [],
   "source": [
    "# Object Instantiation\n",
    "my_robot = RobotTurtle(\"T1\")\n"
   ]
  },
  {
   "cell_type": "markdown",
   "metadata": {},
   "source": [
    "\n",
    "The above line is what we call as **object instantiation**. When Python executes this lines, it *instantiates* an object of the type `RobotTurtle` in the memory. A few notes on object instantation:\n",
    "\n",
    "- The object is created or _instantiated_ by using the class name followed by some values used to initialze the object. In this case: `RobotTurtle(\"T1\")`. The argument \"T1\" is passed on to initialize the object's name. This object is then pointed to by the variable `my_robot`.\n",
    "- Each of the argument in the _object instantiation_ is passed on to the `__init__()` method. In this case, \"T1\" is passed on to the formal argument `name` in `__init__()`. \n",
    "- The **first** argument of any method in a class is always called `self` following Python's [PEP8](https://www.python.org/dev/peps/pep-0008/). The `self` argument is also found as the first argument inside the method `move` and `tell_name`. The first arugment `self` refers to the particular object instance of the class. It can also be used to access methods and attributes of the current object.\n",
    "- At the end of object instantiation, the object `my_robot` would have the following attributes initalized:\n",
    "    - `_name` with a value `T1`\n",
    "    - `_speed` with a value of `1`\n",
    "    - `_pos` with a value of `(0,0)`\n",
    "    \n",
    "Once the object is created, we can access its attributes and methods. For example, you can ask the robot to tell its name.\n"
   ]
  },
  {
   "cell_type": "code",
   "execution_count": 12,
   "metadata": {},
   "outputs": [
    {
     "name": "stdout",
     "output_type": "stream",
     "text": [
      "My name is T1\n"
     ]
    }
   ],
   "source": [
    "# Accessing object's method\n",
    "my_robot.tell_name()"
   ]
  },
  {
   "cell_type": "markdown",
   "metadata": {},
   "source": [
    "- `my_robot.tell_name()` is calling the method `tell_name()` using the **dot operator**. To call any method, we use the format of\n",
    "    ```\n",
    "    object.method_name(arguments)\n",
    "    ```\n",
    "- If you run the cell above, you will see \"My name is T1\" printed on the output\n",
    "\n",
    "You can actually access the attributes directly and change it, for example"
   ]
  },
  {
   "cell_type": "code",
   "execution_count": 13,
   "metadata": {},
   "outputs": [
    {
     "name": "stdout",
     "output_type": "stream",
     "text": [
      "1\n",
      "2\n"
     ]
    }
   ],
   "source": [
    "# accessing object's attribute\n",
    "print(my_robot._speed)\n",
    "my_robot._speed = 2\n",
    "print(my_robot._speed)"
   ]
  },
  {
   "cell_type": "markdown",
   "metadata": {},
   "source": [
    "- the first and the third line access the object's attribute using the **dot operator**. \n",
    "- the second line assigned the value 2 into the object's `_speed` attribute.\n",
    "- if you run the cell above, you will see the speed changes from 1 to 2. \n",
    "\n",
    "The following examples show more examples on how one can access object's attributes and methods using the dot operator."
   ]
  },
  {
   "cell_type": "code",
   "execution_count": 14,
   "metadata": {},
   "outputs": [
    {
     "name": "stdout",
     "output_type": "stream",
     "text": [
      "Robot T2 initially at (0, 0)\n",
      "Robot T2 now at (0, 2)\n",
      "Robot T2 now at (2, 2)\n",
      "Robot T2 now at (2, 4)\n",
      "Robot T2 now at (4, 4)\n",
      "Robot T2 now at (4, 6)\n",
      "Robot T2 now at (6, 6)\n",
      "Robot T2 now at (6, 8)\n",
      "Robot T2 now at (8, 8)\n"
     ]
    }
   ],
   "source": [
    "my_robot = RobotTurtle(\"T2\", 2)\n",
    "\n",
    "print(f'Robot {my_robot._name} initially at {my_robot._pos}')\n",
    "for _ in range(4):\n",
    "    my_robot.move('up')\n",
    "    print(f'Robot {my_robot._name} now at {my_robot._pos}')\n",
    "    my_robot.move('right')\n",
    "    print(f'Robot {my_robot._name} now at {my_robot._pos}') "
   ]
  },
  {
   "cell_type": "markdown",
   "metadata": {},
   "source": [
    "Note: \n",
    "\n",
    "- We create a new object with the name \"T2\" and speed of 2.\n",
    "- We first printed its initial position by access `my_robot._pos` attribute.\n",
    "- Then, we iterate four times. Since we don't use of the iteration variable, we make us of `_`.\n",
    "- In the iteration, we move up and then move right. After each movement, we printed the position.\n"
   ]
  },
  {
   "cell_type": "markdown",
   "metadata": {
    "colab_type": "text",
    "id": "SarFxq9HAv-P"
   },
   "source": [
    "## Encapsulation and Properties\n",
    "\n",
    "One important concept of Object Oriented programming is called **Encapsulation**. The idea of encapsulation is that data should be bundled together with some methods to access it. The data itself should be hidden from those outside of the object. With encapsulation, the state of the object is hidden from those outside of the object. If anyone would like to change the state of the object or enquire about the state of the object, it has to do so using some **methods**. \n",
    "\n",
    "Why would we want to have this encapsulation? One of the purpose is to make the object transparent. Anyone working with the object does not need to know how the state or the data inside the object is implemented. For example, we implement the position attribute in our Robot Turtle object as a tuple of two numbers. This assumes those assigning value to this position always assign a tuple with two numbers. What if they don't? Let's illustrate this with an example"
   ]
  },
  {
   "cell_type": "markdown",
   "metadata": {},
   "source": [
    "If we let others access the attributes direclty, one can assign non number data into the position attribute, such as the following example."
   ]
  },
  {
   "cell_type": "code",
   "execution_count": 15,
   "metadata": {},
   "outputs": [
    {
     "name": "stdout",
     "output_type": "stream",
     "text": [
      "This is not supposed to be allowed\n"
     ]
    }
   ],
   "source": [
    "my_robot._pos = \"This is not supposed to be allowed\"\n",
    "print(my_robot._pos)"
   ]
  },
  {
   "cell_type": "markdown",
   "metadata": {},
   "source": [
    "Such assignment should not be allowed in the first place. If it is allowed, then our `move()` method will produce an error now as shown by running the following cell."
   ]
  },
  {
   "cell_type": "code",
   "execution_count": 16,
   "metadata": {},
   "outputs": [
    {
     "ename": "TypeError",
     "evalue": "can only concatenate str (not \"int\") to str",
     "output_type": "error",
     "traceback": [
      "\u001b[0;31m---------------------------------------------------------------------------\u001b[0m",
      "\u001b[0;31mTypeError\u001b[0m                                 Traceback (most recent call last)",
      "\u001b[0;32m<ipython-input-16-5345a1aa5909>\u001b[0m in \u001b[0;36m<module>\u001b[0;34m\u001b[0m\n\u001b[0;32m----> 1\u001b[0;31m \u001b[0mmy_robot\u001b[0m\u001b[0;34m.\u001b[0m\u001b[0mmove\u001b[0m\u001b[0;34m(\u001b[0m\u001b[0;34m\"up\"\u001b[0m\u001b[0;34m)\u001b[0m\u001b[0;34m\u001b[0m\u001b[0;34m\u001b[0m\u001b[0m\n\u001b[0m",
      "\u001b[0;32m<ipython-input-10-012bc05876e6>\u001b[0m in \u001b[0;36mmove\u001b[0;34m(self, direction)\u001b[0m\n\u001b[1;32m      9\u001b[0m     \u001b[0;31m# Methods:\u001b[0m\u001b[0;34m\u001b[0m\u001b[0;34m\u001b[0m\u001b[0;34m\u001b[0m\u001b[0m\n\u001b[1;32m     10\u001b[0m     \u001b[0;32mdef\u001b[0m \u001b[0mmove\u001b[0m\u001b[0;34m(\u001b[0m\u001b[0mself\u001b[0m\u001b[0;34m,\u001b[0m \u001b[0mdirection\u001b[0m\u001b[0;34m)\u001b[0m\u001b[0;34m:\u001b[0m\u001b[0;34m\u001b[0m\u001b[0;34m\u001b[0m\u001b[0m\n\u001b[0;32m---> 11\u001b[0;31m         update = {'up' : (self._pos[0], self._pos[1] + self._speed),\n\u001b[0m\u001b[1;32m     12\u001b[0m                   \u001b[0;34m'down'\u001b[0m \u001b[0;34m:\u001b[0m \u001b[0;34m(\u001b[0m\u001b[0mself\u001b[0m\u001b[0;34m.\u001b[0m\u001b[0m_pos\u001b[0m\u001b[0;34m[\u001b[0m\u001b[0;36m0\u001b[0m\u001b[0;34m]\u001b[0m\u001b[0;34m,\u001b[0m \u001b[0mself\u001b[0m\u001b[0;34m.\u001b[0m\u001b[0m_pos\u001b[0m\u001b[0;34m[\u001b[0m\u001b[0;36m1\u001b[0m\u001b[0;34m]\u001b[0m \u001b[0;34m-\u001b[0m \u001b[0mself\u001b[0m\u001b[0;34m.\u001b[0m\u001b[0m_speed\u001b[0m\u001b[0;34m)\u001b[0m\u001b[0;34m,\u001b[0m\u001b[0;34m\u001b[0m\u001b[0;34m\u001b[0m\u001b[0m\n\u001b[1;32m     13\u001b[0m                   \u001b[0;34m'left'\u001b[0m \u001b[0;34m:\u001b[0m \u001b[0;34m(\u001b[0m\u001b[0mself\u001b[0m\u001b[0;34m.\u001b[0m\u001b[0m_pos\u001b[0m\u001b[0;34m[\u001b[0m\u001b[0;36m0\u001b[0m\u001b[0;34m]\u001b[0m \u001b[0;34m-\u001b[0m \u001b[0mself\u001b[0m\u001b[0;34m.\u001b[0m\u001b[0m_speed\u001b[0m\u001b[0;34m,\u001b[0m \u001b[0mself\u001b[0m\u001b[0;34m.\u001b[0m\u001b[0m_pos\u001b[0m\u001b[0;34m[\u001b[0m\u001b[0;36m1\u001b[0m\u001b[0;34m]\u001b[0m\u001b[0;34m)\u001b[0m\u001b[0;34m,\u001b[0m\u001b[0;34m\u001b[0m\u001b[0;34m\u001b[0m\u001b[0m\n",
      "\u001b[0;31mTypeError\u001b[0m: can only concatenate str (not \"int\") to str"
     ]
    }
   ],
   "source": [
    "my_robot.move(\"up\")"
   ]
  },
  {
   "cell_type": "markdown",
   "metadata": {},
   "source": [
    "Therefore, it is important that we do encapsulation. Encapsulation ensures that any access to the data should be done through some specific methods. There are two kinds of methods for this purpose:\n",
    "- enquiry or *getter*: this method is used to get or enquire the state of the object\n",
    "- modifier or *setter*: this method is used to modify or set the state of the object. \n",
    "\n",
    "In Python, we do this using the concept of **property**. A *property* represents an attribute with its getter and setter. Let's rewrite the class using property this time. We are going to create two properties, one for `name` and the other one for `speed`. On the other hand, we wil create a property for position only with a getter. The reason is that we want position to be modified only by calling the `move()` method."
   ]
  },
  {
   "cell_type": "code",
   "execution_count": 17,
   "metadata": {},
   "outputs": [],
   "source": [
    "# Class definition\n",
    "class RobotTurtle:\n",
    "    # Attributes:\n",
    "    def __init__(self, name, speed=1):\n",
    "        self.name = name\n",
    "        self.speed = speed\n",
    "        self._pos = (0, 0)\n",
    "        \n",
    "    # property getter\n",
    "    @property\n",
    "    def name(self):\n",
    "        return self._name\n",
    "    \n",
    "    # property setter\n",
    "    @name.setter\n",
    "    def name(self, value):\n",
    "        if isinstance(value, str) and value != \"\":\n",
    "            self._name = value\n",
    "            \n",
    "    # property getter\n",
    "    @property\n",
    "    def speed(self):\n",
    "        return self._speed\n",
    "    \n",
    "    # property setter\n",
    "    @speed.setter\n",
    "    def speed(self, value):\n",
    "        if isinstance(value, int) and value > 0:\n",
    "            self._speed = value\n",
    "\n",
    "    # property getter\n",
    "    @property\n",
    "    def pos(self):\n",
    "        return self._pos\n",
    "    \n",
    "    # Methods:\n",
    "    def move(self, direction):\n",
    "        update = {'up' : (self.pos[0], self.pos[1] + self.speed),\n",
    "                  'down' : (self.pos[0], self.pos[1] - self.speed),\n",
    "                  'left' : (self.pos[0] - self.speed, self.pos[1]),\n",
    "                  'right' : (self.pos[0] + self.speed, self.pos[1])}\n",
    "        self._pos = update[direction]\n",
    "\n",
    "        \n",
    "    def tell_name(self):\n",
    "        print(f\"My name is {self.name}\")\n",
    "\n",
    "\n"
   ]
  },
  {
   "cell_type": "markdown",
   "metadata": {},
   "source": [
    "We define a property for `name` as follows:\n",
    "\n",
    "```python\n",
    "    # property getter\n",
    "    @property\n",
    "    def name(self):\n",
    "        return self._name\n",
    "    \n",
    "    # property setter\n",
    "    @name.setter\n",
    "    def name(self, value):\n",
    "        if isinstance(value, str) and value != \"\":\n",
    "            self._name = value\n",
    "```\n",
    "\n",
    "Note:\n",
    "\n",
    "- We use the syntax `@property` to define a getter with the name `name`. This is what is called as **decorator** in Python. A decorator allows you to modify the function defined in the line just after it. In our case, it changes the method `def name(self)` into a **getter** method for a property called `name`.\n",
    "- The setter is defined using a decoratory `@name.setter`. In this setter method, we ensure that only those of the type `str` and not empty string can be assigned to the attribute `_name`.\n",
    "- This setter will be called in the `__init__()` since the argument is assigned to the **property** `name` and not to the **attribute** `_name`, i.e. `self.name = name`. \n",
    "\n",
    "The property for the `speed` is defined similarly.\n",
    "```python\n",
    "    # property getter\n",
    "    @property\n",
    "    def speed(self):\n",
    "        return self._speed\n",
    "    \n",
    "    # property setter\n",
    "    @speed.setter\n",
    "    def speed(self, value):\n",
    "        if isinstance(value, int) and value > 0:\n",
    "            self._speed = value\n",
    "```\n",
    "\n",
    "Note:\n",
    "- The setter decorator is `@speed.setter` where the name before the dot is the name of the *property*. \n",
    "- The setter ensures that only integer greater than 0 can be assigned to the attribute `_speed`. \n",
    "\n"
   ]
  },
  {
   "cell_type": "markdown",
   "metadata": {},
   "source": [
    "Let's see some examples on how to use the properties."
   ]
  },
  {
   "cell_type": "code",
   "execution_count": 18,
   "metadata": {},
   "outputs": [],
   "source": [
    "# this is to create a new object with property, make sure you run the cell with the class definition first\n",
    "my_robot = RobotTurtle(\"T4\")"
   ]
  },
  {
   "cell_type": "code",
   "execution_count": 19,
   "metadata": {},
   "outputs": [
    {
     "name": "stdout",
     "output_type": "stream",
     "text": [
      "T4\n",
      "1\n"
     ]
    }
   ],
   "source": [
    "# enquire name and speed\n",
    "print(my_robot.name)\n",
    "print(my_robot.speed)"
   ]
  },
  {
   "cell_type": "markdown",
   "metadata": {},
   "source": [
    "Notice that you use the property name, which are `name` and `speed` respectively instead of its attributes name, i.e. `__name` and `__speed`. This access calls the **getter** method of the respective properties.\n",
    "\n",
    "Moreover, you can also change the value using the assignment operator which will call the **setter** method."
   ]
  },
  {
   "cell_type": "code",
   "execution_count": 20,
   "metadata": {},
   "outputs": [
    {
     "name": "stdout",
     "output_type": "stream",
     "text": [
      "T4new\n",
      "T4new\n"
     ]
    }
   ],
   "source": [
    "my_robot.name = \"T4new\"\n",
    "print(my_robot.name)\n",
    "my_robot.name = \"\"\n",
    "print(my_robot.name)"
   ]
  },
  {
   "cell_type": "markdown",
   "metadata": {},
   "source": [
    "Notice that in the second assignment, the name is not assigned to an empty string. It remains as `T4new`. The reason is that our setter only assigns the value if the value is a string and non-empty. Similarly, we can see the same behaviour for speed property."
   ]
  },
  {
   "cell_type": "code",
   "execution_count": 21,
   "metadata": {},
   "outputs": [
    {
     "name": "stdout",
     "output_type": "stream",
     "text": [
      "2\n",
      "2\n"
     ]
    }
   ],
   "source": [
    "my_robot.speed = 2\n",
    "print(my_robot.speed)\n",
    "my_robot.speed = -2\n",
    "print(my_robot.speed)"
   ]
  },
  {
   "cell_type": "markdown",
   "metadata": {},
   "source": [
    "Notice that the second assignment to -2 did not go through because of our setter method's checking."
   ]
  },
  {
   "cell_type": "markdown",
   "metadata": {},
   "source": [
    "On the other hand, we do not have any setter for position. The reason is that we want position to always start from `(0, 0)` and it can only change its position through the method `move()`. Note, however, that we are using a **single leading underscore** as a convention for people not to touch it. We can still enquire the position using the property's getter."
   ]
  },
  {
   "cell_type": "code",
   "execution_count": 22,
   "metadata": {},
   "outputs": [
    {
     "name": "stdout",
     "output_type": "stream",
     "text": [
      "(0, 0)\n"
     ]
    }
   ],
   "source": [
    "print(my_robot.pos)"
   ]
  },
  {
   "cell_type": "markdown",
   "metadata": {},
   "source": [
    "To change its position, it should call the `move()` method."
   ]
  },
  {
   "cell_type": "code",
   "execution_count": 23,
   "metadata": {},
   "outputs": [
    {
     "name": "stdout",
     "output_type": "stream",
     "text": [
      "(0, 4)\n"
     ]
    }
   ],
   "source": [
    "my_robot.move(\"up\")\n",
    "my_robot.move(\"up\")\n",
    "print(my_robot.pos)"
   ]
  },
  {
   "cell_type": "markdown",
   "metadata": {},
   "source": [
    "Note that we use the **properties**'s names `self.pos` and `self.speed` in updating the attribute `_pos` and `_speed`. See the `move()` method.\n",
    "\n",
    "```python\n",
    "    def move(self, direction):\n",
    "        update = {'up' : (self.pos[0], self.pos[1] + self.speed),\n",
    "                  'down' : (self.pos[0], self.pos[1] - self.speed),\n",
    "                  'left' : (self.pos[0] - self.speed, self.pos[1]),\n",
    "                  'right' : (self.pos[0] + self.speed, self.pos[1])}\n",
    "        self._pos = update[direction]\n",
    "```"
   ]
  },
  {
   "cell_type": "markdown",
   "metadata": {},
   "source": [
    "You can actually still access the attributes since Python does not have a concept of private attribute. This is how you access the attributes with a double leading underscore in its name."
   ]
  },
  {
   "cell_type": "code",
   "execution_count": 24,
   "metadata": {},
   "outputs": [
    {
     "data": {
      "text/plain": [
       "(0, 4)"
      ]
     },
     "execution_count": 24,
     "metadata": {},
     "output_type": "execute_result"
    }
   ],
   "source": [
    "my_robot._pos"
   ]
  },
  {
   "cell_type": "markdown",
   "metadata": {},
   "source": [
    "But it is a convention in Python that when you use a single leading underscore, people should not touch it directly. On the other hand, one can also use a **double leading underscores**. This allows [Name Mangling](https://stackoverflow.com/questions/7456807/python-name-mangling) that prevents accidental overloading of methods and name conflicts when you extend a class. "
   ]
  },
  {
   "cell_type": "markdown",
   "metadata": {},
   "source": [
    "In summary on the use of leading underscore for attribute's name:\n",
    "\n",
    "- When in doubt, leave it \"public\". This means that we should not add anything to obscure the name of your class' attribute.\n",
    "- If you really want to send the message \"Can't touch this!\" to your users, the usual way is to precede the variable with one underscore. This is just a convention, but people understand it and take double care when dealing with such stuff.\n",
    "- The double underscore magic is used mainly to avoid accidental overloading of methods and name conflicts with superclasses' attributes. It can be quite useful if you write a class that is expected to be extended many times. We will talk about inheritance to extend a class in the subsequent lessons.\n",
    "\n",
    "The above summary are taken from [this article](https://stackoverflow.com/questions/7456807/python-name-mangling)."
   ]
  },
  {
   "cell_type": "markdown",
   "metadata": {},
   "source": [
    "## Computed Property\n",
    "\n",
    "Both `name` and `speed` are what is commonly called **stored** properties. For each stored property there is a corresponding attribute. We can also create what is called **computed** property. A computed property retrieves its value from some other attributes and does not have a setter. To illustrate, let's create a new user-defined object called `Coordinate`."
   ]
  },
  {
   "cell_type": "code",
   "execution_count": 25,
   "metadata": {},
   "outputs": [],
   "source": [
    "import math\n",
    "\n",
    "class Coordinate:\n",
    "    \n",
    "    def __init__(self, x=0, y=0):\n",
    "        self.x = x\n",
    "        self.y = y\n",
    "        \n",
    "    @property\n",
    "    def distance(self):\n",
    "        return math.sqrt(self.x * self.x + self.y * self.y)"
   ]
  },
  {
   "cell_type": "markdown",
   "metadata": {},
   "source": [
    "In the above class, we have two attributes `x` and `y`. We do not create any properties for these attributes for simplicity. Python encourages simplicity anway. But here, we create a computed property called `distance`. This property returns the distance of the current x and y from its origin (0, 0). We can test by instantiating the object and assign some values to its attributes."
   ]
  },
  {
   "cell_type": "code",
   "execution_count": 26,
   "metadata": {},
   "outputs": [
    {
     "name": "stdout",
     "output_type": "stream",
     "text": [
      "3 4\n",
      "5.0\n"
     ]
    }
   ],
   "source": [
    "# object instantiation\n",
    "p1 = Coordinate(3, 4)\n",
    "print(p1.x, p1.y)\n",
    "print(p1.distance)"
   ]
  },
  {
   "cell_type": "markdown",
   "metadata": {},
   "source": [
    "The last line prints the computed property `distance` which is computed from the two attributes `x` and `y`. Notice here that `distance` is printed without parenthesis and so it is not a **method** but rather a **property**. "
   ]
  },
  {
   "cell_type": "markdown",
   "metadata": {},
   "source": [
    "So we may ask when should we use a method that returns a value and when to use a computed property. Here are some considerations:\n",
    "- A method can have arguments. This means that if your returned value requires some input other than the attributes of its object, you must use a method rather than a computed property.\n",
    "- A method describes an action. If the code performs some actions and return the output of that action, then a method is more suitable. \n",
    "\n",
    "So when should we use a computed property?\n",
    "- When the property describes some intrinsic quality of the object. Property is similar in many ways to attribute and it is usually a \"noun\". It should describes some kind of property of the object rather than some action that the object can do.\n",
    "- When the computation is simple and cheap. We should prefer property for simple values you can get by doing a quick calculation. Distance property in the example above is a good example of this. \n",
    "- When you can compute the value only with the object's attributes. Remember that getter of a property does not take any other argument besides `self`. This means that the computed value must be obtained only from the object's attributes."
   ]
  },
  {
   "cell_type": "markdown",
   "metadata": {},
   "source": [
    "## Composition\n",
    "\n",
    "An object can be composed of other objects. For example, we have seen that our `RobotTurtle` object is made up of other objects such as `str` for its name, `int` for its speed and tuple for its position. We can also compose an object from other **user-defined** object. For example, instead of using a tuple for its position, our Robot Turtle class can make use of the `Coordinate` class. "
   ]
  },
  {
   "cell_type": "code",
   "execution_count": 28,
   "metadata": {},
   "outputs": [],
   "source": [
    "# Class definition\n",
    "class RobotTurtle:\n",
    "    # Attributes:\n",
    "    def __init__(self, name, speed=1):\n",
    "        self.name = name\n",
    "        self.speed = speed\n",
    "        self._pos = Coordinate(0, 0)\n",
    "        \n",
    "    # property getter\n",
    "    @property\n",
    "    def name(self):\n",
    "        return self._name\n",
    "    \n",
    "    # property setter\n",
    "    @name.setter\n",
    "    def name(self, value):\n",
    "        if isinstance(value, str) and value != \"\":\n",
    "            self._name = value\n",
    "            \n",
    "    # property getter\n",
    "    @property\n",
    "    def speed(self):\n",
    "        return self._speed\n",
    "    \n",
    "    # property setter\n",
    "    @speed.setter\n",
    "    def speed(self, value):\n",
    "        if isinstance(value, int) and value > 0:\n",
    "            self._speed = value\n",
    "\n",
    "    # property getter\n",
    "    @property\n",
    "    def pos(self):\n",
    "        return self._pos\n",
    "    \n",
    "    # Methods:\n",
    "    def move(self, direction):\n",
    "        update = {'up' : Coordinate(self.pos.x, self.pos.y + self.speed),\n",
    "                  'down' : Coordinate(self.pos.x, self.pos.y - self.speed),\n",
    "                  'left' : Coordinate(self.pos.x - self.speed, self.pos.y),\n",
    "                  'right' : Coordinate(self.pos.x + self.speed, self.pos.y)}\n",
    "        self._pos = update[direction]\n",
    "\n",
    "        \n",
    "    def tell_name(self):\n",
    "        print(f\"My name is {self.name}\")\n",
    "\n",
    "\n"
   ]
  },
  {
   "cell_type": "markdown",
   "metadata": {},
   "source": [
    "We made two main changes. First, in the `__init__()` instead of initializing to a tuple, we instantiate an object `Coordinate()`. \n",
    "\n",
    "```python\n",
    "    def __init__(self, name, speed=1):\n",
    "        self.name = name\n",
    "        self.speed = speed\n",
    "        self._pos = Coordinate(0, 0)\n",
    "```\n",
    "\n",
    "The initial position is still at (0, 0) but now the type is no longer a tuple, but rather, a `Coordinate` class. The second change is on the `move()` method.\n",
    "\n",
    "```python\n",
    "    def move(self, direction):\n",
    "        update = {'up' : Coordinate(self.pos.x, self.pos.y + self.speed),\n",
    "                  'down' : Coordinate(self.pos.x, self.pos.y - self.speed),\n",
    "                  'left' : Coordinate(self.pos.x - self.speed, self.pos.y),\n",
    "                  'right' : Coordinate(self.pos.x + self.speed, self.pos.y)}\n",
    "        self._pos = update[direction]\n",
    "```\n",
    "\n",
    "Instead of using indices like `self.pos[0]` and `self.pos[1]`, we now use the dot operator with its attribute names like `self.pos.x` and `self.pos.y`. This is much a clearer and easy to read as compared to using indices. Moreover, instead of using a tuple, we instantiate `Coordinate()` object as the value of the dictionary `update`. \n",
    "\n",
    "We can now create the object and test our new class as follows."
   ]
  },
  {
   "cell_type": "code",
   "execution_count": 20,
   "metadata": {},
   "outputs": [
    {
     "name": "stdout",
     "output_type": "stream",
     "text": [
      "<__main__.Coordinate object at 0x7fca20dccf10>\n"
     ]
    }
   ],
   "source": [
    "my_robot = RobotTurtle(\"T with Coordinate\")\n",
    "print(my_robot.pos)"
   ]
  },
  {
   "cell_type": "markdown",
   "metadata": {},
   "source": [
    "Notice that now `pos` is a `Coordinate` object. We can access its attributes as usual."
   ]
  },
  {
   "cell_type": "code",
   "execution_count": 21,
   "metadata": {},
   "outputs": [
    {
     "name": "stdout",
     "output_type": "stream",
     "text": [
      "0 0\n"
     ]
    }
   ],
   "source": [
    "print(my_robot.pos.x, my_robot.pos.y)"
   ]
  },
  {
   "cell_type": "markdown",
   "metadata": {},
   "source": [
    "We can move the robot using the `move()` method."
   ]
  },
  {
   "cell_type": "code",
   "execution_count": 22,
   "metadata": {},
   "outputs": [
    {
     "name": "stdout",
     "output_type": "stream",
     "text": [
      "1 -1\n"
     ]
    }
   ],
   "source": [
    "my_robot.move(\"right\")\n",
    "my_robot.move(\"down\")\n",
    "print(my_robot.pos.x, my_robot.pos.y)"
   ]
  },
  {
   "cell_type": "markdown",
   "metadata": {},
   "source": [
    "## Special Methods\n",
    "\n",
    "Some methods' name in Python are special and can be overridden. One example of special method that you have encountered is `__init__()` method. This method is always called during object instantiation. There are many other special methods, but for now, we will introduce one more, which is the `__str__()` method. This method is called when Python tries to convert the object to an `str` object. One common instance of this is when you print the object. \n",
    "\n",
    "If we print the `Coordinate()` object, we will see the following output."
   ]
  },
  {
   "cell_type": "code",
   "execution_count": 23,
   "metadata": {},
   "outputs": [
    {
     "name": "stdout",
     "output_type": "stream",
     "text": [
      "<__main__.Coordinate object at 0x7fc9e077df90>\n"
     ]
    }
   ],
   "source": [
    "p1 = Coordinate(2, 3)\n",
    "print(p1)"
   ]
  },
  {
   "cell_type": "markdown",
   "metadata": {},
   "source": [
    "Python basically does not understand how to print a `Coordinate()`. But we can tell Python how to convert this object into an `str` which Python can display into the screen. Let's override the method `__str__()`."
   ]
  },
  {
   "cell_type": "code",
   "execution_count": 24,
   "metadata": {},
   "outputs": [],
   "source": [
    "import math\n",
    "\n",
    "class Coordinate:\n",
    "    \n",
    "    def __init__(self, x=0, y=0):\n",
    "        self.x = x\n",
    "        self.y = y\n",
    "        \n",
    "    @property\n",
    "    def distance(self):\n",
    "        return math.sqrt(self.x * self.x + self.y * self.y)\n",
    "    \n",
    "    def __str__(self):\n",
    "        return f\"({self.x}, {self.y})\""
   ]
  },
  {
   "cell_type": "markdown",
   "metadata": {},
   "source": [
    "In the above method `__str__()` we return a string whenever Python tries to convert this object into a string. Once we define this special method, we can print a `Coordinate` object."
   ]
  },
  {
   "cell_type": "code",
   "execution_count": 25,
   "metadata": {},
   "outputs": [
    {
     "name": "stdout",
     "output_type": "stream",
     "text": [
      "(2, 3)\n"
     ]
    }
   ],
   "source": [
    "p1 = Coordinate(2, 3)\n",
    "print(p1)"
   ]
  },
  {
   "cell_type": "markdown",
   "metadata": {},
   "source": [
    "Once Coordinate has this method, it can be used whenever the object has some `Coordinate` attributes. For example, we can print our robot position simply by doin gthe following."
   ]
  },
  {
   "cell_type": "code",
   "execution_count": 26,
   "metadata": {},
   "outputs": [
    {
     "name": "stdout",
     "output_type": "stream",
     "text": [
      "(0, 0)\n"
     ]
    }
   ],
   "source": [
    "my_robot = RobotTurtle(\"T with Coordinate\")\n",
    "print(my_robot.pos)"
   ]
  },
  {
   "cell_type": "markdown",
   "metadata": {},
   "source": [
    "Recall, that previously you have to specify it as\n",
    "\n",
    "```python\n",
    "print(my_robot.pos.x, my_robot.pos.y)\n",
    "```\n",
    "\n",
    "But now it is no longer necessary and Python knows how to convert your `Coordinate` object into a string which can be displayed into the standard output."
   ]
  },
  {
   "cell_type": "markdown",
   "metadata": {},
   "source": [
    "## UML Diagram\n",
    "\n",
    "In designing Object Oriented programs, we usually use a [UML diagram](https://en.wikipedia.org/wiki/Class_diagram). UML stands for *Unified Modeling Language* and it gives some specifications how to represent the classes visually. For example, our `RobotTurtle` class is drawn as the following UML class diagram.\n",
    "\n",
    "<img src=\"https://www.dropbox.com/s/afrdqumj0ohbz9x/basic_class_attr_method.png?raw=1\" alt=\"drawing\" width=\"400\"/>"
   ]
  },
  {
   "cell_type": "markdown",
   "metadata": {},
   "source": [
    "The UML Class diagram consists of three compartment:\n",
    "\n",
    "- The first compartment on the top: this specifies the class name\n",
    "- The second compartment in the middle: this lists down all the properties and attributes\n",
    "- The third compartment at the bottom: this lists down all the methods\n",
    "\n",
    "Sometime, it is useful to identify the property's type especially when there is a case of composition as in our `pos` property. In this case, we know that `pos` is of the type `Coordinate`. This is drawn in UML diagram as follows.\n",
    "\n",
    "<img src=\"https://www.dropbox.com/s/nlm154eyyuuxv69/basic_class_attr_method_type.png?raw=1\" alt=\"drawing\" width=\"400\"/>\n"
   ]
  },
  {
   "cell_type": "markdown",
   "metadata": {},
   "source": [
    "UML diagram also allows us to specify the relationship between different classes. For example, `RobotTurtle` and `Coordinate` relationship can be drawn as shown below.\n",
    "\n",
    "<img src=\"https://www.dropbox.com/s/f32r1evjv2zvcde/UML_class_relationship.png?raw=1\" alt=\"drawing\" width=\"600\"/>\n",
    "\n",
    "In this diagram, we see that one `RobotTurtle` can have one `Coordinate`. This is a specific kind of *association* relationship called **composition**. This means that `RobotTurtle` is composed of a `Coordinate`. When the object `RobotTurtle` is destroyed, the `Coordinate` object associated with it is also destroyed. There are other kinds of relationship which we will introduce along the way. "
   ]
  }
 ],
 "metadata": {
  "colab": {
   "collapsed_sections": [],
   "name": "D2W Week 4 Notes Draft",
   "provenance": []
  },
  "kernelspec": {
   "display_name": "Python 3",
   "language": "python",
   "name": "python3"
  },
  "language_info": {
   "codemirror_mode": {
    "name": "ipython",
    "version": 3
   },
   "file_extension": ".py",
   "mimetype": "text/x-python",
   "name": "python",
   "nbconvert_exporter": "python",
   "pygments_lexer": "ipython3",
   "version": "3.8.5"
  }
 },
 "nbformat": 4,
 "nbformat_minor": 4
}
