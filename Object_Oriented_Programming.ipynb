{
 "cells": [
  {
   "cell_type": "markdown",
   "metadata": {},
   "source": [
    "# Object Oriented Programming"
   ]
  },
  {
   "cell_type": "markdown",
   "metadata": {
    "colab_type": "text",
    "id": "VwchUZ8BknrC"
   },
   "source": [
    "# Objectives\n",
    "\n",
    "- Create Class Definitions with initialization and other methods\n",
    "- Create stored property and computed property\n",
    "- Draw object diagram of an object\n",
    "- Explain has-a relationship\n",
    "- Discuss object aliasing and copying\n",
    "- Draw UML diagram for has-a relationship\n",
    "- Implement abstract data type for Stack, Queue using Object Oriented paradigm\n",
    "- Apply Stack and Queue for some applications\n",
    "- Discuss implementation impact on computation time"
   ]
  },
  {
   "cell_type": "markdown",
   "metadata": {
    "colab_type": "text",
    "id": "hd7u9bYm44T2"
   },
   "source": [
    "# Outline\n",
    "Introduction: Motivate why we use Object Oriented \n",
    "\n",
    "---\n",
    "Two Necessary Thing: Class Definition and Object Instantiation \n",
    "\n",
    "Class Definition:  \n",
    "- [x] show how to define a class with __init__() to initialize some properties \n",
    "- [x] Show how to define method \n",
    "- [x] Explain what is \"self\" \n",
    "\n",
    "Object Instantiation: \n",
    "- [x] Show how to instantiate an object \n",
    "- [x] Discuss dot operator \n",
    "- [x] Show how to access and modify properties \n",
    "- [x] Show how to call methods \n",
    "\n",
    "\n",
    "- [ ] Introduce Basic UML \n",
    "\n",
    "---\n",
    "- [x] Motivate why we want to learn about Data Structures \n",
    "- [x] Introduce Linear Data Structures: Stack and Queues \n",
    "- [ ] Show UML for Stack and Queues \n",
    "\n",
    "\n",
    "- [x] Explain evaluate Expression application using Stack \n",
    "\n",
    "\n",
    "- [x] Explain Radix sorting machine using Queues \n",
    "\n",
    "\n",
    "- [x] Pseudocode \n",
    "\n",
    "\n",
    "- [ ] Introduce Double Stack implementation of Queues and discuss computational time "
   ]
  },
  {
   "cell_type": "markdown",
   "metadata": {
    "colab_type": "text",
    "id": "1AksY5mfrT8-"
   },
   "source": [
    "# Object Oriented Programming\n",
    "\n",
    "### What is Object Oriented Programming?\n",
    "Object-oriented programming (OOP) is a programming paradigm based on the concept of \"objects\". (https://en.wikipedia.org/wiki/Object-oriented_programming)  \n",
    "\n",
    "As your program grows in complexity, you may need something more than simple built-in data types such as `str`, `int`, or `list`. For example, when you create a game, you may need an `Avatar`, or `Weapon`, etc. In these cases, it is easier to organize your code around objects. You can think of objects as your own user-defined data types. Later you will see that these objects have two main things: \n",
    "- properties: which defines the characteristic of the object, and\n",
    "- methods: which defines what the object can do\n",
    "Properties and methods define your object. \n",
    "\n",
    "For example, let's say you want to create a computer game with a Dog as its character. In this case, you may want to define a new data type called `Dog`.  \n",
    "`Dog` will have the **attributes** `dog_breed`, `weight`, and `name`. A real dog can `bark`, so the data type `Dog` would have the **methods** `bark` and `big_bark`. Methods are a kind of functions which apply to our user-defined data type.\n",
    "\n",
    "When dealing with objects, you need to do the following:\n",
    "1. Define a class, which defines the object\n",
    "1. Instantiate an object, which actually creates the object\n",
    "\n",
    "The Python's code below shows how to do this for `Dog`."
   ]
  },
  {
   "cell_type": "code",
   "execution_count": 3,
   "metadata": {
    "colab": {
     "base_uri": "https://localhost:8080/",
     "height": 52
    },
    "colab_type": "code",
    "id": "1BFjdRAW0-Ne",
    "outputId": "52945723-3ecd-4064-9d80-d702d9088b13"
   },
   "outputs": [
    {
     "name": "stdout",
     "output_type": "stream",
     "text": [
      "Lombok\n",
      "bark!\n",
      "Lombok SAYS BARK!\n"
     ]
    }
   ],
   "source": [
    "# Class definition\n",
    "class Dog:\n",
    "    # Attributes:\n",
    "    def __init__(self, breed, weight, name):\n",
    "        self.dog_breed = breed\n",
    "        self.weight = weight\n",
    "        self.name = name\n",
    "\n",
    "    # Methods:\n",
    "    def bark(self):\n",
    "        print(\"bark!\")\n",
    "\n",
    "    def big_bark(self):\n",
    "        print(f\"{self.name:} SAYS BARK!\")\n",
    "\n",
    "\n",
    "# Object Instantiation\n",
    "my_dog = Dog(\"German Shepherd\", 7, \"Lombok\")\n",
    "\n",
    "# Accessing object's attribute\n",
    "print(my_dog.name)\n",
    "\n",
    "# Using object's method\n",
    "my_dog.bark()\n",
    "my_dog.big_bark()\n",
    "\n"
   ]
  },
  {
   "cell_type": "markdown",
   "metadata": {
    "colab_type": "text",
    "id": "uZfgO0AG1HWa"
   },
   "source": [
    "- Notice the above code starts with a Class Definition. To define a class, we use the keyword `class` followed by the class name `Dog`.\n",
    "- The keyword `def` inside the class defines the method that the object can do. \n",
    "- The first method is special and it is called `__init__()`. This method is always called during _object instantiation_. \n",
    "- The object is created or _instantiated_ by using the class name followed by some values used to initialzed the object. In this case: `Dog(\"German Shepherd\", 7, \"Lombok\")`. This object is then stored in `my_dog` variable.\n",
    "- Each of the argument in the _object instantiation_ is passed on to the `__init__()` method, starting from the **second** argument onwards. Note that the **first** argument of a method in a class is called `self`. Notice the `self` argument is found inside the method `bark` and `big_bark`. The first arugment in a method, which in this case is `self`, refers to the particular object instance of the class. It can also be used to access methods and attributes of the current object.\n",
    "- `my_dog.name` inside the `print()` function access the value of the attribute `name` of the object using the **dot operator**. A dot operator/notation allows us to access the attributes and methods of an instance of a class.\n",
    "- `my_dog.bark()` is calling the method `bark` using **dot operator**. \n",
    "- By accessing an instance's attribute, we can modify the value of the attribute.\n",
    "```python\n",
    "myDog.name = \"Becky\"\n",
    "```\n",
    "The line above will change the value of attribute `name` from Lombok to Becky.  \n",
    "\n",
    "\n",
    "### Special Methods\n",
    "Special methods are written with **double underscores** before and after their name. The most important special method is **`__init__`**. It is called everytime an object is created. This method is also called the **constructor**. Below is an example of an `__init__` method for the class `Dog`.\n",
    "\n",
    "```python\n",
    "class Dog:\n",
    "    def __init__(self):\n",
    "        self.dogBreed = \"German Shepherd\"\n",
    "        self.weight = 7\n",
    "        self.name = \"Lombok\"\n",
    "        print(\"A new dog has been created!\")\n",
    "```\n",
    "\n",
    "Initialization with `__init__` is more preferable and is considered a good practice than declaring it in the class definition.\n",
    "\n",
    "\n",
    "### Default values in methods and functions\n",
    "We can define a default value in methods and special methods.\n",
    "```python\n",
    "class Dog:\n",
    "    def __init__(self, dogBreed, name, weight=5):\n",
    "        self.dogBreed = dogBreed\n",
    "        self.weight = weight\n",
    "        self.name = name\n",
    "        print(\"A new dog has been created!\")\n",
    "```\n",
    "\n",
    "Here we pass an optional input for the weight attribute to 5. This value of 5 is used when user provides no input. An example is shown below, when no argument is specified for weight, the weight of the dog is immediately set to 5, the default value specified in the `__init__`."
   ]
  },
  {
   "cell_type": "code",
   "execution_count": null,
   "metadata": {
    "colab": {
     "base_uri": "https://localhost:8080/",
     "height": 52
    },
    "colab_type": "code",
    "id": "7eBK1cJjAwXY",
    "outputId": "63484cf2-ff8e-460a-ba75-40640561df9b"
   },
   "outputs": [
    {
     "name": "stdout",
     "output_type": "stream",
     "text": [
      "A new dog has been created!\n",
      "My dog's weight is 5\n"
     ]
    }
   ],
   "source": [
    "class Dog:\n",
    "    def __init__(self, dogBreed, name, weight=5):\n",
    "        self.dogBreed = dogBreed\n",
    "        self.weight = weight\n",
    "        self.name = name\n",
    "        print(\"A new dog has been created!\")\n",
    "\n",
    "\n",
    "myDog = Dog(\"German Shepherd\", \"Lombok\")\n",
    "print(\"My dog's weight is\", myDog.weight)"
   ]
  },
  {
   "cell_type": "markdown",
   "metadata": {
    "colab_type": "text",
    "id": "SarFxq9HAv-P"
   },
   "source": [
    "### Class Property\n",
    "`property` is an important keyword. It provides an interface to instance attributes.\n",
    "\n",
    "Example of usage in `Dog` class:"
   ]
  },
  {
   "cell_type": "code",
   "execution_count": null,
   "metadata": {
    "colab": {
     "base_uri": "https://localhost:8080/",
     "height": 72
    },
    "colab_type": "code",
    "id": "JaGUMLrBMjJu",
    "outputId": "45bff17a-4d6a-4d1c-faed-e5bef9363065"
   },
   "outputs": [
    {
     "name": "stdout",
     "output_type": "stream",
     "text": [
      "A new dog has been created!\n",
      "Lombok\n",
      "New name\n"
     ]
    }
   ],
   "source": [
    "class Dog:\n",
    "    def __init__(self, dogBreed, name, weight=5):\n",
    "        self.dogBreed = dogBreed\n",
    "        self.weight = weight\n",
    "        self.name = name\n",
    "        print(\"A new dog has been created!\")\n",
    "\n",
    "    def set_name(self,name):\n",
    "        self.name = name\n",
    "    \n",
    "    def get_name(self):\n",
    "        return self.name\n",
    "    \n",
    "    dogName = property(get_name, set_name)\n",
    "\n",
    "\n",
    "lombok = Dog(\"German Shepherd\", \"Lombok\", 7)\n",
    "print(lombok.dogName)\n",
    "lombok.dogName = \"New name\"\n",
    "print(lombok.dogName)"
   ]
  },
  {
   "cell_type": "markdown",
   "metadata": {
    "colab_type": "text",
    "id": "3UADICPWNab3"
   },
   "source": [
    "The full syntax of the `property` would be:\n",
    "```python\n",
    "prop=property(getter, setter, deleter, docstring)\n",
    "```"
   ]
  },
  {
   "cell_type": "markdown",
   "metadata": {
    "colab_type": "text",
    "id": "tdV8AbeLrbxk"
   },
   "source": [
    "# Data Structure\n",
    "\n",
    "### What is a data structure? Why do we use them?\n",
    "\n",
    "Data structures are a way of storing data/information, in a way that it is organized efficiently and convenient to access. This means that they should allow for successful access within the shortest time.\n",
    "\n",
    "There are a lot of different kinds of data structures, and we will be learning the **Linear Data Structures** - Stack and Queue.\n",
    "\n",
    "---\n",
    "\n",
    "# Stack Data Structure\n",
    "\n",
    "Stack is a type of data structure that follows the LIFO (Last in First out) principle.\n",
    "\n",
    "## Stack Operations\n",
    "Imagine a **stack** of book. \n",
    "<center><img src=https://cdn.pixabay.com/photo/2012/04/03/13/26/books-25154_960_720.png height=250 width=250></center>\n",
    "\n",
    "If you want to put a book to the stack of the book, you will put it on top of the stack. This process is called **push**.\n",
    "\n",
    "Taking the top book of the stack (which is the last book to be put into the stack) is a process called **pop**.  \n",
    "\n",
    "<center><img src=https://upload.wikimedia.org/wikipedia/commons/a/a8/Programming-stack.png></center>\n",
    "\n",
    "**Peek** is a process of retrieving the first element of the stack without removing it from the stack, similar to just looking at what book lies on top of the stack.\n",
    "\n",
    "As such a stack has the following attributes and methods ...\n",
    "\n",
    "\n",
    "\n",
    "```\n",
    "Stack\n",
    "Attributes:\n",
    "1. items\n",
    "\n",
    "Methods:\n",
    "1. Push // insert\n",
    "2. Pop // remove and read\n",
    "3. Peek // only read\n",
    "```\n",
    "\n",
    "\n"
   ]
  },
  {
   "cell_type": "markdown",
   "metadata": {
    "colab_type": "text",
    "id": "Loto1ythrixY"
   },
   "source": [
    "# Queue\n",
    "\n",
    "Queue is a data structure that follows the FIFO (First in First out) principle.\n",
    "\n",
    "-insert image here-\n",
    "\n",
    "In other words, a queue works exactly like how it does in real life. Suppose you and your friend are queueing up for your favourite cai peng stall. If you're before him in the queue, you get your food first. A queue works the same way. Queues are similar to stacks. You can't access random elements in the queue. Instead, there are only two main operations - `enqueue` and `dequeue`\n",
    "\n",
    "## Queue Operations\n",
    "<center><img src=https://upload.wikimedia.org/wikipedia/commons/thumb/5/52/Data_Queue.svg/405px-Data_Queue.svg.png></center>\n",
    "\n",
    "\n",
    "As such a queue has the following methods ...\n",
    "\n",
    "```\n",
    "Queue\n",
    "Attributes:\n",
    "1. items\n",
    "\n",
    "Methods:\n",
    "1. Enqueue\n",
    "2. Dequeue\n",
    "3. Peek\n",
    "```"
   ]
  },
  {
   "cell_type": "markdown",
   "metadata": {
    "colab_type": "text",
    "id": "i3di_H6hJWCW"
   },
   "source": [
    "# Evaluate Expression\n",
    "\n",
    "`EvaluateExpression` is used to evaluate mathematical expressions for Integers. The class should only accept integer numbers and valid operators such as +,-,*,/, and (). We will implement this class using stack.\n",
    "\n",
    "`EvaluateExpressions` will have 2 stacks, 1 for operands and another 1 for operator.  \n",
    "\n",
    "|Operator|Operand|\n",
    "|-|-|\n",
    "|.|.|\n",
    "|.|.|\n",
    "|.|.|\n",
    "|Bottom|of stack|\n",
    "\n",
    "Take the expression `3 + 5`. EvaluateExpression will process the expression from left to right. When it finds a number, in this instance is `3`, it will immediately push it to the stack.\n",
    "\n",
    "|Operator|Operand|\n",
    "|-|-|\n",
    "|.|.|\n",
    "|.|.|\n",
    "|.|3|\n",
    "\n",
    "When it finds `+` which is an operator, it will **process all other operands first in the stack.** The reason is because `+` has a lower priority than some other operators like `*` and `/`. This is especially true when the expression is `2 * 3 + 5` where at the time `+` is met, `2 * 3` must be processed first. Note that if you meet a `(`, you should stop processing there, like in the case of `5 + ( 2 * 3 + 5 )`.\n",
    "\n",
    "For `3 + 5`, the operator stack is empty, so we can immediately push to the operator stack.\n",
    "\n",
    "|Operator|Operand|\n",
    "|-|-|\n",
    "|.|.|\n",
    "|.|.|\n",
    "|+|3|\n",
    "\n",
    "After `+` is `5`,\n",
    "\n",
    "|Operator|Operand|\n",
    "|-|-|\n",
    "|.|.|\n",
    "|.|5|\n",
    "|+|3|\n",
    "\n",
    "As we have reached the last character of the expression, we need to process all operators we have in the stack. 1 operator needs 2 operand, thus we pop operator stack once and operand stack twice. Note that the order of operands when we pop from the stack is important! If the operator was `-`, `3-5` will be different from `5-3`."
   ]
  },
  {
   "cell_type": "markdown",
   "metadata": {
    "colab_type": "text",
    "id": "w56fJjAEwV3d"
   },
   "source": [
    "# Radix Sort with Queue\n",
    "\n",
    "## What is Radix Sort?\n",
    "Radix sort is a non-comparison sorting algorithm for **integers** by grouping integers by individual digits that share the same positon and value. It utilizes 10 \"buckets\" numbered from 0-9 to sort.\n",
    "\n",
    "Radix sort will go through each digit of all numbers and put them in the buckets matching their digit, and take them out again, repeating until all digits are checked.\n",
    "\n",
    "A simple animation for radix sorting:  \n",
    "<center>\n",
    "<img src=https://drive.google.com/uc?export=view&id=1CUsu4T_Q7N9Lc6s4F6lUNugkkdYG0A70>\n",
    "</center>\n",
    "\n",
    "Source: [visualgo.net](https://visualgo.net/en/sorting).  \n",
    "(Visualgo provides a lot of nice animations of many different algorithms that may help you visualize the algorithm better)\n",
    "\n",
    "## Using Queue in implementing Radix Sort\n",
    "If you notice from the animation, each of the \"buckets\" used in radix sort (numbered 0 to 9) are queue. It follows the principle of First-In-First-Out.\n",
    "\n",
    "```python\n",
    "Radix Sort \n",
    "Input: array\n",
    "Output: array\n",
    "\n",
    "class RadixSort:\n",
    "    1. Method __init__(self, array):\n",
    "        1.1 Store the array in items\n",
    "        1.2 Set up 10 bins using queue\n",
    "\n",
    "    2. Method max_digit(self):\n",
    "        2.1 temp = first element in items\n",
    "        2.2 for each element in items:\n",
    "            2.2.1 if element > temp:\n",
    "                2.2.2.1 temp = element\n",
    "        2.3 return temp\n",
    "    \n",
    "    # This method im not sure whether i should change the original one or not\n",
    "    3. Method convert_to_str(self,items):\n",
    "        3.1 max_digit = get maximum number of digit\n",
    "        3.2 temp = a copy of items\n",
    "        3.3 for index from 0 to len(temp):\n",
    "            3.3.1 append '0' to temp[index] until its length is max_digit\n",
    "        3.4 return temp\n",
    "\n",
    "    # Should the method change the original items?\n",
    "    4. Method sort(self): \n",
    "        4.1 same_length = get the items with '0' appended to it\n",
    "        4.2 max_digit = get maximum number of digit\n",
    "        4.3 for index from 1 to max_digit+1:\n",
    "            4.3.1 for each element in same_length:\n",
    "                4.3.1.1 index = i-th digit from `behind`\n",
    "                4.3.1.2 enqueue element to bin for digit index\n",
    "            4.3.2 Empty out same_length\n",
    "            4.3.3 for inner_index from 0 to 9:\n",
    "                4.3.3.1 while bin for digit inner_index is not empty:\n",
    "                        4.3.3.1.1 dequeue from the bin and append to same_length\n",
    "        4.4 answer = convert elements of same_length to int \n",
    "        4.5 return answer\n",
    "```"
   ]
  },
  {
   "cell_type": "markdown",
   "metadata": {
    "colab_type": "text",
    "id": "Y9ynEYkPu7IZ"
   },
   "source": [
    "# Queue with Double Stack\n",
    "Queue can also be implemented using 2 stacks."
   ]
  },
  {
   "cell_type": "markdown",
   "metadata": {
    "colab_type": "text",
    "id": "GAVELcIzgQt8"
   },
   "source": [
    "#UML Diagrams\n",
    "\n",
    "We will also be briefly covering UML which is otherwise known as Unified Modelling Language.\n",
    "\n",
    "\n",
    "![alt text](https://external-content.duckduckgo.com/iu/?u=https%3A%2F%2Ftse1.mm.bing.net%2Fth%3Fid%3DOIP.03vi11zLoW34MZqTfHbaXQHaFO%26pid%3DApi&f=1://)"
   ]
  },
  {
   "cell_type": "markdown",
   "metadata": {
    "colab_type": "text",
    "id": "hPSxHwkji83S"
   },
   "source": [
    "#Extra relevant information\n",
    "\n",
    "In fact, perhaps unknowingly, you have had an encounter with stacks just a week ago. Call stacks in recursion! (Call stacks are an important concept in gneral programming too!)\n",
    "\n",
    "Let's look at this in action with the factorial fuction. factorial(3), or 3! = 3\\*2\\*1. Here's a recursive function to calculate the factorial of a number:\n",
    "\n",
    "\n",
    "\n",
    "\n",
    "\n",
    "\n",
    "\n",
    "\n",
    "\n",
    "\n",
    "\n",
    "\n",
    "\n",
    "\n",
    "\n",
    "\n",
    "\n"
   ]
  },
  {
   "cell_type": "code",
   "execution_count": null,
   "metadata": {
    "colab": {
     "base_uri": "https://localhost:8080/",
     "height": 35
    },
    "colab_type": "code",
    "id": "rmruaqClW2Ul",
    "outputId": "e1dae78e-22b2-404a-cc36-b4d8a584de81"
   },
   "outputs": [
    {
     "name": "stdout",
     "output_type": "stream",
     "text": [
      "120\n"
     ]
    }
   ],
   "source": [
    "def factorial(x):\n",
    "  if x == 1:\n",
    "    return 1\n",
    "  else:\n",
    "    return x * factorial(x-1)\n",
    "\n",
    "print(factorial(3))"
   ]
  },
  {
   "cell_type": "markdown",
   "metadata": {
    "colab_type": "text",
    "id": "Qd6IcmzRXLz9"
   },
   "source": [
    "Now when we call factorial(3). Let's step through this call line by line and see how the stack changes. "
   ]
  }
 ],
 "metadata": {
  "colab": {
   "collapsed_sections": [],
   "name": "D2W Week 4 Notes Draft",
   "provenance": []
  },
  "kernelspec": {
   "display_name": "Python 3",
   "language": "python",
   "name": "python3"
  },
  "language_info": {
   "codemirror_mode": {
    "name": "ipython",
    "version": 3
   },
   "file_extension": ".py",
   "mimetype": "text/x-python",
   "name": "python",
   "nbconvert_exporter": "python",
   "pygments_lexer": "ipython3",
   "version": "3.7.4"
  }
 },
 "nbformat": 4,
 "nbformat_minor": 4
}
